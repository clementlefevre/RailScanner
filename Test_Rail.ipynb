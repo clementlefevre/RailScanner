{
 "cells": [
  {
   "cell_type": "code",
   "execution_count": 1,
   "metadata": {
    "collapsed": false
   },
   "outputs": [],
   "source": [
    "%matplotlib inline\n",
    "from model import client\n",
    "from datetime import datetime\n",
    "import matplotlib.pyplot as plt\n",
    "import seaborn as sns"
   ]
  },
  {
   "cell_type": "code",
   "execution_count": 2,
   "metadata": {
    "collapsed": false
   },
   "outputs": [],
   "source": [
    "cli = client.Client()"
   ]
  },
  {
   "cell_type": "code",
   "execution_count": 3,
   "metadata": {
    "collapsed": false
   },
   "outputs": [
    {
     "name": "stdout",
     "output_type": "stream",
     "text": [
      "2017-08-10 00:00:00\n"
     ]
    }
   ],
   "source": [
    "cli.set_dates('2017-08-10',40)"
   ]
  },
  {
   "cell_type": "code",
   "execution_count": 4,
   "metadata": {
    "collapsed": false
   },
   "outputs": [
    {
     "name": "stdout",
     "output_type": "stream",
     "text": [
      "['2017-08-10T00:00:00', '2017-08-11T00:00:00', '2017-08-12T00:00:00', '2017-08-13T00:00:00', '2017-08-14T00:00:00', '2017-08-15T00:00:00', '2017-08-16T00:00:00', '2017-08-17T00:00:00', '2017-08-18T00:00:00', '2017-08-19T00:00:00', '2017-08-20T00:00:00', '2017-08-21T00:00:00', '2017-08-22T00:00:00', '2017-08-23T00:00:00', '2017-08-24T00:00:00', '2017-08-25T00:00:00', '2017-08-26T00:00:00', '2017-08-27T00:00:00', '2017-08-28T00:00:00', '2017-08-29T00:00:00', '2017-08-30T00:00:00', '2017-08-31T00:00:00', '2017-09-01T00:00:00', '2017-09-02T00:00:00', '2017-09-03T00:00:00', '2017-09-04T00:00:00', '2017-09-05T00:00:00', '2017-09-06T00:00:00', '2017-09-07T00:00:00', '2017-09-08T00:00:00', '2017-09-09T00:00:00', '2017-09-10T00:00:00', '2017-09-11T00:00:00', '2017-09-12T00:00:00', '2017-09-13T00:00:00', '2017-09-14T00:00:00', '2017-09-15T00:00:00', '2017-09-16T00:00:00', '2017-09-17T00:00:00', '2017-09-18T00:00:00']\n"
     ]
    }
   ],
   "source": [
    "print cli.date_range"
   ]
  },
  {
   "cell_type": "code",
   "execution_count": 5,
   "metadata": {
    "collapsed": false
   },
   "outputs": [],
   "source": [
    "cli.add_segment('ussel', ['saint brieuc'])"
   ]
  },
  {
   "cell_type": "code",
   "execution_count": 6,
   "metadata": {
    "collapsed": false
   },
   "outputs": [
    {
     "data": {
      "text/plain": [
       "[{'destinations': ['saint brieuc'], 'origin': 'ussel'}]"
      ]
     },
     "execution_count": 6,
     "metadata": {},
     "output_type": "execute_result"
    }
   ],
   "source": [
    "cli.segments"
   ]
  },
  {
   "cell_type": "code",
   "execution_count": 7,
   "metadata": {
    "collapsed": false
   },
   "outputs": [
    {
     "name": "stdout",
     "output_type": "stream",
     "text": [
      "\n",
      " Itineraries found for ussel-saint brieuc: 0\n",
      "\n",
      "\n",
      " Itineraries found for ussel-saint brieuc: 0\n",
      "\n",
      "\n",
      " Itineraries found for ussel-saint brieuc: 0\n",
      "\n",
      "\n",
      " Itineraries found for ussel-saint brieuc: 0\n",
      "\n",
      "\n",
      " Itineraries found for ussel-saint brieuc: 0\n",
      "\n",
      "\n",
      " Itineraries found for ussel-saint brieuc: 1\n",
      "\n",
      "\n",
      " Itineraries found for ussel-saint brieuc: 0\n",
      "\n",
      "\n",
      " Itineraries found for ussel-saint brieuc: 3\n",
      "\n",
      "\n",
      " Itineraries found for ussel-saint brieuc: 3\n",
      "\n",
      "\n",
      " Itineraries found for ussel-saint brieuc: 2\n",
      "\n",
      "FULL TRAIN\n",
      "\n",
      " Itineraries found for ussel-saint brieuc: 2\n",
      "\n",
      "\n",
      " Itineraries found for ussel-saint brieuc: 2\n",
      "\n",
      "FULL TRAIN\n",
      "\n",
      " Itineraries found for ussel-saint brieuc: 1\n",
      "\n",
      "\n",
      " Itineraries found for ussel-saint brieuc: 2\n",
      "\n",
      "\n",
      " Itineraries found for ussel-saint brieuc: 2\n",
      "\n",
      "\n",
      " Itineraries found for ussel-saint brieuc: 1\n",
      "\n",
      "\n",
      " Itineraries found for ussel-saint brieuc: 0\n",
      "\n",
      "\n",
      " Itineraries found for ussel-saint brieuc: 2\n",
      "\n",
      "\n",
      " Itineraries found for ussel-saint brieuc: 2\n",
      "\n",
      "\n",
      " Itineraries found for ussel-saint brieuc: 3\n",
      "\n",
      "\n",
      " Itineraries found for ussel-saint brieuc: 2\n",
      "\n",
      "\n",
      " Itineraries found for ussel-saint brieuc: 3\n",
      "\n",
      "\n",
      " Itineraries found for ussel-saint brieuc: 3\n",
      "\n",
      "\n",
      " Itineraries found for ussel-saint brieuc: 1\n",
      "\n",
      "\n",
      " Itineraries found for ussel-saint brieuc: 1\n",
      "\n",
      "\n",
      " Itineraries found for ussel-saint brieuc: 3\n",
      "\n",
      "\n",
      " Itineraries found for ussel-saint brieuc: 2\n",
      "\n",
      "\n",
      " Itineraries found for ussel-saint brieuc: 3\n",
      "\n",
      "\n",
      " Itineraries found for ussel-saint brieuc: 3\n",
      "\n",
      "\n",
      " Itineraries found for ussel-saint brieuc: 3\n",
      "\n",
      "\n",
      " Itineraries found for ussel-saint brieuc: 2\n",
      "\n",
      "\n",
      " Itineraries found for ussel-saint brieuc: 1\n",
      "\n",
      "\n",
      " Itineraries found for ussel-saint brieuc: 2\n",
      "\n",
      "\n",
      " Itineraries found for ussel-saint brieuc: 3\n",
      "\n",
      "\n",
      " Itineraries found for ussel-saint brieuc: 3\n",
      "\n",
      "\n",
      " Itineraries found for ussel-saint brieuc: 3\n",
      "\n",
      "\n",
      " Itineraries found for ussel-saint brieuc: 2\n",
      "\n",
      "\n",
      " Itineraries found for ussel-saint brieuc: 0\n",
      "\n",
      "\n",
      " Itineraries found for ussel-saint brieuc: 1\n",
      "\n",
      "\n",
      " Itineraries found for ussel-saint brieuc: 3\n",
      "\n"
     ]
    }
   ],
   "source": [
    "cli.get_routes()"
   ]
  },
  {
   "cell_type": "code",
   "execution_count": 8,
   "metadata": {
    "collapsed": false
   },
   "outputs": [
    {
     "name": "stderr",
     "output_type": "stream",
     "text": [
      "service/sncf_routes.py:153: UserWarning: the 'timedelta' type is not supported, and will be written as integer values (ns frequency) to the database.\n",
      "  df.to_sql('sncf_trips', disk_engine, if_exists='append')\n"
     ]
    }
   ],
   "source": [
    "cli.save_to_db()"
   ]
  },
  {
   "cell_type": "code",
   "execution_count": 9,
   "metadata": {
    "collapsed": false
   },
   "outputs": [],
   "source": [
    "df_from_db = cli.read_from_db()"
   ]
  },
  {
   "cell_type": "code",
   "execution_count": 10,
   "metadata": {
    "collapsed": false
   },
   "outputs": [],
   "source": [
    "def plot_min_price(df,origin,destination):   \n",
    "    groupy = df[df.trip_name.str.contains(destination)&df.trip_name.str.contains(origin)].groupby(['trip_departureDate']).min()\n",
    "    groupy = groupy.reset_index()\n",
    "\n",
    "    n = 5\n",
    "    ax = groupy.plot(kind='bar', y='min_price',x='trip_departureDate', title='-'.join([destination)\n",
    "    ticks = ax.xaxis.get_ticklocs()\n",
    "    ticklabels = [l.get_text() for l in ax.xaxis.get_ticklabels()]\n",
    "    ax.xaxis.set_ticks(ticks[::n])\n",
    "    ax.xaxis.set_ticklabels(ticklabels[::n])"
   ]
  },
  {
   "cell_type": "code",
   "execution_count": 11,
   "metadata": {
    "collapsed": false
   },
   "outputs": [
    {
     "data": {
      "image/png": "[encoded data removed]",
      "text/plain": [
       "<matplotlib.figure.Figure at 0x7f1ea9a27710>"
      ]
     },
     "metadata": {},
     "output_type": "display_data"
    }
   ],
   "source": [
    "plot_min_price(df_from_db,'USSEL','SAINT BRIEUC')"
   ]
  }
 ],
 "metadata": {
  "anaconda-cloud": {},
  "kernelspec": {
   "display_name": "Python [default]",
   "language": "python",
   "name": "python2"
  },
  "language_info": {
   "codemirror_mode": {
    "name": "ipython",
    "version": 2
   },
   "file_extension": ".py",
   "mimetype": "text/x-python",
   "name": "python",
   "nbconvert_exporter": "python",
   "pygments_lexer": "ipython2",
   "version": "2.7.12"
  }
 },
 "nbformat": 4,
 "nbformat_minor": 2
}
