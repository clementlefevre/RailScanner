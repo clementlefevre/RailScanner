{
 "cells": [
  {
   "cell_type": "code",
   "execution_count": 150,
   "metadata": {
    "collapsed": true
   },
   "outputs": [],
   "source": [
    "from navitia_client import Client\n",
    "from  datetime import datetime\n",
    "import requests\n",
    "import pprint\n",
    "import json\n",
    "import pandas as pd\n",
    "import numpy as np\n",
    "from IPython.core.debugger import Tracer\n"
   ]
  },
  {
   "cell_type": "code",
   "execution_count": 116,
   "metadata": {
    "collapsed": true
   },
   "outputs": [],
   "source": []
  },
  {
   "cell_type": "code",
   "execution_count": 72,
   "metadata": {
    "collapsed": false
   },
   "outputs": [],
   "source": [
    "df_stations = pd.read_csv('referentiel-gares-voyageurs.csv',sep=';')"
   ]
  },
  {
   "cell_type": "code",
   "execution_count": 108,
   "metadata": {
    "collapsed": false
   },
   "outputs": [
    {
     "data": {
      "text/html": [
       "<div>\n",
       "<style>\n",
       "    .dataframe thead tr:only-child th {\n",
       "        text-align: right;\n",
       "    }\n",
       "\n",
       "    .dataframe thead th {\n",
       "        text-align: left;\n",
       "    }\n",
       "\n",
       "    .dataframe tbody tr th {\n",
       "        vertical-align: top;\n",
       "    }\n",
       "</style>\n",
       "<table border=\"1\" class=\"dataframe\">\n",
       "  <thead>\n",
       "    <tr style=\"text-align: right;\">\n",
       "      <th></th>\n",
       "      <th>Code gare</th>\n",
       "      <th>Intitulé gare</th>\n",
       "      <th>Intitulé fronton de gare</th>\n",
       "      <th>Gare DRG</th>\n",
       "      <th>Gare étrangère</th>\n",
       "      <th>Agence gare</th>\n",
       "      <th>Région SNCF</th>\n",
       "      <th>Unité gare</th>\n",
       "      <th>UT</th>\n",
       "      <th>Nbre plateformes</th>\n",
       "      <th>...</th>\n",
       "      <th>Longitude WGS84</th>\n",
       "      <th>Latitude WGS84</th>\n",
       "      <th>Code UIC</th>\n",
       "      <th>TVS</th>\n",
       "      <th>Segment DRG</th>\n",
       "      <th>Niveau de service</th>\n",
       "      <th>SOP</th>\n",
       "      <th>RG</th>\n",
       "      <th>Date fin validité plateforme</th>\n",
       "      <th>WGS 84</th>\n",
       "    </tr>\n",
       "  </thead>\n",
       "  <tbody>\n",
       "    <tr>\n",
       "      <th>1467</th>\n",
       "      <td>455</td>\n",
       "      <td>Clermont-Ferrand</td>\n",
       "      <td>Clermont-Ferrand</td>\n",
       "      <td>Oui</td>\n",
       "      <td>Non</td>\n",
       "      <td>AG Centre Est Rhône Alpin</td>\n",
       "      <td>REGION AUVERGNE</td>\n",
       "      <td>UG EEV AUVERGNE</td>\n",
       "      <td>NaN</td>\n",
       "      <td>1</td>\n",
       "      <td>...</td>\n",
       "      <td>3.100543</td>\n",
       "      <td>45.778945</td>\n",
       "      <td>87734004.0</td>\n",
       "      <td>CLF</td>\n",
       "      <td>a</td>\n",
       "      <td>2.0</td>\n",
       "      <td>NaN</td>\n",
       "      <td>NaN</td>\n",
       "      <td>NaN</td>\n",
       "      <td>45.778945, 3.100543</td>\n",
       "    </tr>\n",
       "    <tr>\n",
       "      <th>2626</th>\n",
       "      <td>627</td>\n",
       "      <td>Montferrand - Thoraise</td>\n",
       "      <td>Montferrand - Thoraise</td>\n",
       "      <td>Oui</td>\n",
       "      <td>Non</td>\n",
       "      <td>AG Centre Est Rhône Alpin</td>\n",
       "      <td>REGION BOURGOGNE FRANCHE-COMTE</td>\n",
       "      <td>UG Franche-Comté</td>\n",
       "      <td>NaN</td>\n",
       "      <td>1</td>\n",
       "      <td>...</td>\n",
       "      <td>5.907482</td>\n",
       "      <td>47.184741</td>\n",
       "      <td>87718106.0</td>\n",
       "      <td>MFH</td>\n",
       "      <td>c</td>\n",
       "      <td>1.0</td>\n",
       "      <td>NaN</td>\n",
       "      <td>NaN</td>\n",
       "      <td>NaN</td>\n",
       "      <td>47.1847414, 5.9074815</td>\n",
       "    </tr>\n",
       "  </tbody>\n",
       "</table>\n",
       "<p>2 rows × 27 columns</p>\n",
       "</div>"
      ],
      "text/plain": [
       "      Code gare           Intitulé gare Intitulé fronton de gare Gare DRG  \\\n",
       "1467        455        Clermont-Ferrand         Clermont-Ferrand      Oui   \n",
       "2626        627  Montferrand - Thoraise   Montferrand - Thoraise      Oui   \n",
       "\n",
       "     Gare étrangère                Agence gare  \\\n",
       "1467            Non  AG Centre Est Rhône Alpin   \n",
       "2626            Non  AG Centre Est Rhône Alpin   \n",
       "\n",
       "                         Région SNCF        Unité gare  UT  Nbre plateformes  \\\n",
       "1467                 REGION AUVERGNE   UG EEV AUVERGNE NaN                 1   \n",
       "2626  REGION BOURGOGNE FRANCHE-COMTE  UG Franche-Comté NaN                 1   \n",
       "\n",
       "              ...            Longitude WGS84 Latitude WGS84    Code UIC  TVS  \\\n",
       "1467          ...                   3.100543      45.778945  87734004.0  CLF   \n",
       "2626          ...                   5.907482      47.184741  87718106.0  MFH   \n",
       "\n",
       "     Segment DRG Niveau de service SOP  RG  Date fin validité plateforme  \\\n",
       "1467           a               2.0 NaN NaN                           NaN   \n",
       "2626           c               1.0 NaN NaN                           NaN   \n",
       "\n",
       "                     WGS 84  \n",
       "1467    45.778945, 3.100543  \n",
       "2626  47.1847414, 5.9074815  \n",
       "\n",
       "[2 rows x 27 columns]"
      ]
     },
     "execution_count": 108,
     "metadata": {},
     "output_type": "execute_result"
    }
   ],
   "source": [
    "df_stations[df_stations['Intitulé gare'].str.contains('(?i)Ferrand')]"
   ]
  },
  {
   "cell_type": "code",
   "execution_count": 154,
   "metadata": {
    "collapsed": false
   },
   "outputs": [
    {
     "name": "stdout",
     "output_type": "stream",
     "text": [
      "object\n",
      "object\n",
      "object\n",
      "object\n",
      "object\n",
      "object\n",
      "object\n",
      "object\n",
      "object\n",
      "object\n",
      "object\n",
      "object\n",
      "object\n",
      "object\n",
      "object\n"
     ]
    }
   ],
   "source": [
    "for y in df_stations.columns:\n",
    "    if(df_stations[y].dtype == np.float64 or df_stations[y].dtype == np.int64):\n",
    "          pass\n",
    "    else:\n",
    "          print df_stations[y].dtype"
   ]
  },
  {
   "cell_type": "code",
   "execution_count": 160,
   "metadata": {
    "collapsed": false
   },
   "outputs": [
    {
     "data": {
      "text/html": [
       "<div>\n",
       "<style>\n",
       "    .dataframe thead tr:only-child th {\n",
       "        text-align: right;\n",
       "    }\n",
       "\n",
       "    .dataframe thead th {\n",
       "        text-align: left;\n",
       "    }\n",
       "\n",
       "    .dataframe tbody tr th {\n",
       "        vertical-align: top;\n",
       "    }\n",
       "</style>\n",
       "<table border=\"1\" class=\"dataframe\">\n",
       "  <thead>\n",
       "    <tr style=\"text-align: right;\">\n",
       "      <th></th>\n",
       "      <th>Code gare</th>\n",
       "      <th>Intitulé gare</th>\n",
       "      <th>Intitulé fronton de gare</th>\n",
       "      <th>Gare DRG</th>\n",
       "      <th>Gare étrangère</th>\n",
       "      <th>Agence gare</th>\n",
       "      <th>Région SNCF</th>\n",
       "      <th>Unité gare</th>\n",
       "      <th>UT</th>\n",
       "      <th>Nbre plateformes</th>\n",
       "      <th>...</th>\n",
       "      <th>Longitude WGS84</th>\n",
       "      <th>Latitude WGS84</th>\n",
       "      <th>Code UIC</th>\n",
       "      <th>TVS</th>\n",
       "      <th>Segment DRG</th>\n",
       "      <th>Niveau de service</th>\n",
       "      <th>SOP</th>\n",
       "      <th>RG</th>\n",
       "      <th>Date fin validité plateforme</th>\n",
       "      <th>WGS 84</th>\n",
       "    </tr>\n",
       "  </thead>\n",
       "  <tbody>\n",
       "    <tr>\n",
       "      <th>994</th>\n",
       "      <td>64</td>\n",
       "      <td>Clermont la Pardieu</td>\n",
       "      <td>Clermont la Pardieu</td>\n",
       "      <td>Oui</td>\n",
       "      <td>Non</td>\n",
       "      <td>AG Centre Est Rhône Alpin</td>\n",
       "      <td>REGION AUVERGNE</td>\n",
       "      <td>UG EEV AUVERGNE</td>\n",
       "      <td>NaN</td>\n",
       "      <td>1</td>\n",
       "      <td>...</td>\n",
       "      <td>3.134163</td>\n",
       "      <td>45.766947</td>\n",
       "      <td>87782607.0</td>\n",
       "      <td>COP</td>\n",
       "      <td>b</td>\n",
       "      <td>1.0</td>\n",
       "      <td>NaN</td>\n",
       "      <td>NaN</td>\n",
       "      <td>NaN</td>\n",
       "      <td>45.766947, 3.134163</td>\n",
       "    </tr>\n",
       "    <tr>\n",
       "      <th>1162</th>\n",
       "      <td>1887</td>\n",
       "      <td>Clermont la Rotonde</td>\n",
       "      <td>Clermont la Rotonde</td>\n",
       "      <td>Oui</td>\n",
       "      <td>Non</td>\n",
       "      <td>AG Centre Est Rhône Alpin</td>\n",
       "      <td>REGION AUVERGNE</td>\n",
       "      <td>UG EEV AUVERGNE</td>\n",
       "      <td>NaN</td>\n",
       "      <td>1</td>\n",
       "      <td>...</td>\n",
       "      <td>3.090970</td>\n",
       "      <td>45.768095</td>\n",
       "      <td>87396895.0</td>\n",
       "      <td>RTD</td>\n",
       "      <td>c</td>\n",
       "      <td>1.0</td>\n",
       "      <td>NaN</td>\n",
       "      <td>NaN</td>\n",
       "      <td>NaN</td>\n",
       "      <td>45.7680954, 3.0909704</td>\n",
       "    </tr>\n",
       "    <tr>\n",
       "      <th>1467</th>\n",
       "      <td>455</td>\n",
       "      <td>Clermont-Ferrand</td>\n",
       "      <td>Clermont-Ferrand</td>\n",
       "      <td>Oui</td>\n",
       "      <td>Non</td>\n",
       "      <td>AG Centre Est Rhône Alpin</td>\n",
       "      <td>REGION AUVERGNE</td>\n",
       "      <td>UG EEV AUVERGNE</td>\n",
       "      <td>NaN</td>\n",
       "      <td>1</td>\n",
       "      <td>...</td>\n",
       "      <td>3.100543</td>\n",
       "      <td>45.778945</td>\n",
       "      <td>87734004.0</td>\n",
       "      <td>CLF</td>\n",
       "      <td>a</td>\n",
       "      <td>2.0</td>\n",
       "      <td>NaN</td>\n",
       "      <td>NaN</td>\n",
       "      <td>NaN</td>\n",
       "      <td>45.778945, 3.100543</td>\n",
       "    </tr>\n",
       "    <tr>\n",
       "      <th>1877</th>\n",
       "      <td>2298</td>\n",
       "      <td>Clermont de l'Oise</td>\n",
       "      <td>Clermont de l'Oise</td>\n",
       "      <td>Oui</td>\n",
       "      <td>Non</td>\n",
       "      <td>AG Manche-Nord</td>\n",
       "      <td>REGION DE PARIS-NORD</td>\n",
       "      <td>UG Picardie</td>\n",
       "      <td>NaN</td>\n",
       "      <td>1</td>\n",
       "      <td>...</td>\n",
       "      <td>2.417670</td>\n",
       "      <td>49.385310</td>\n",
       "      <td>87313304.0</td>\n",
       "      <td>CDO</td>\n",
       "      <td>b</td>\n",
       "      <td>2.0</td>\n",
       "      <td>NaN</td>\n",
       "      <td>NaN</td>\n",
       "      <td>NaN</td>\n",
       "      <td>49.38531, 2.41767</td>\n",
       "    </tr>\n",
       "    <tr>\n",
       "      <th>2209</th>\n",
       "      <td>2826</td>\n",
       "      <td>Clermont-en-Argonne</td>\n",
       "      <td>Clermont-en-Argonne</td>\n",
       "      <td>Oui</td>\n",
       "      <td>Non</td>\n",
       "      <td>AG Est-Européen</td>\n",
       "      <td>REGION LORRAINE</td>\n",
       "      <td>NaN</td>\n",
       "      <td>NaN</td>\n",
       "      <td>1</td>\n",
       "      <td>...</td>\n",
       "      <td>5.065060</td>\n",
       "      <td>49.106450</td>\n",
       "      <td>87175737.0</td>\n",
       "      <td>CTA</td>\n",
       "      <td>NaN</td>\n",
       "      <td>1.0</td>\n",
       "      <td>NaN</td>\n",
       "      <td>NaN</td>\n",
       "      <td>NaN</td>\n",
       "      <td>49.10645, 5.06506</td>\n",
       "    </tr>\n",
       "    <tr>\n",
       "      <th>2874</th>\n",
       "      <td>304</td>\n",
       "      <td>Monestier-de-Clermont</td>\n",
       "      <td>Monestier-de-Clermont</td>\n",
       "      <td>Oui</td>\n",
       "      <td>Non</td>\n",
       "      <td>AG Centre Est Rhône Alpin</td>\n",
       "      <td>REGION ALPES</td>\n",
       "      <td>UG EEV ALPES</td>\n",
       "      <td>NaN</td>\n",
       "      <td>1</td>\n",
       "      <td>...</td>\n",
       "      <td>5.633970</td>\n",
       "      <td>44.911996</td>\n",
       "      <td>87747592.0</td>\n",
       "      <td>MDC</td>\n",
       "      <td>c</td>\n",
       "      <td>1.0</td>\n",
       "      <td>NaN</td>\n",
       "      <td>NaN</td>\n",
       "      <td>NaN</td>\n",
       "      <td>44.911996, 5.6339702</td>\n",
       "    </tr>\n",
       "  </tbody>\n",
       "</table>\n",
       "<p>6 rows × 27 columns</p>\n",
       "</div>"
      ],
      "text/plain": [
       "      Code gare          Intitulé gare Intitulé fronton de gare Gare DRG  \\\n",
       "994          64    Clermont la Pardieu      Clermont la Pardieu      Oui   \n",
       "1162       1887    Clermont la Rotonde      Clermont la Rotonde      Oui   \n",
       "1467        455       Clermont-Ferrand         Clermont-Ferrand      Oui   \n",
       "1877       2298     Clermont de l'Oise       Clermont de l'Oise      Oui   \n",
       "2209       2826    Clermont-en-Argonne      Clermont-en-Argonne      Oui   \n",
       "2874        304  Monestier-de-Clermont    Monestier-de-Clermont      Oui   \n",
       "\n",
       "     Gare étrangère                Agence gare           Région SNCF  \\\n",
       "994             Non  AG Centre Est Rhône Alpin       REGION AUVERGNE   \n",
       "1162            Non  AG Centre Est Rhône Alpin       REGION AUVERGNE   \n",
       "1467            Non  AG Centre Est Rhône Alpin       REGION AUVERGNE   \n",
       "1877            Non             AG Manche-Nord  REGION DE PARIS-NORD   \n",
       "2209            Non            AG Est-Européen       REGION LORRAINE   \n",
       "2874            Non  AG Centre Est Rhône Alpin          REGION ALPES   \n",
       "\n",
       "           Unité gare  UT  Nbre plateformes          ...            \\\n",
       "994   UG EEV AUVERGNE NaN                 1          ...             \n",
       "1162  UG EEV AUVERGNE NaN                 1          ...             \n",
       "1467  UG EEV AUVERGNE NaN                 1          ...             \n",
       "1877      UG Picardie NaN                 1          ...             \n",
       "2209              NaN NaN                 1          ...             \n",
       "2874     UG EEV ALPES NaN                 1          ...             \n",
       "\n",
       "      Longitude WGS84 Latitude WGS84    Code UIC  TVS Segment DRG  \\\n",
       "994          3.134163      45.766947  87782607.0  COP           b   \n",
       "1162         3.090970      45.768095  87396895.0  RTD           c   \n",
       "1467         3.100543      45.778945  87734004.0  CLF           a   \n",
       "1877         2.417670      49.385310  87313304.0  CDO           b   \n",
       "2209         5.065060      49.106450  87175737.0  CTA         NaN   \n",
       "2874         5.633970      44.911996  87747592.0  MDC           c   \n",
       "\n",
       "     Niveau de service SOP  RG  Date fin validité plateforme  \\\n",
       "994                1.0 NaN NaN                           NaN   \n",
       "1162               1.0 NaN NaN                           NaN   \n",
       "1467               2.0 NaN NaN                           NaN   \n",
       "1877               2.0 NaN NaN                           NaN   \n",
       "2209               1.0 NaN NaN                           NaN   \n",
       "2874               1.0 NaN NaN                           NaN   \n",
       "\n",
       "                     WGS 84  \n",
       "994     45.766947, 3.134163  \n",
       "1162  45.7680954, 3.0909704  \n",
       "1467    45.778945, 3.100543  \n",
       "1877      49.38531, 2.41767  \n",
       "2209      49.10645, 5.06506  \n",
       "2874   44.911996, 5.6339702  \n",
       "\n",
       "[6 rows x 27 columns]"
      ]
     },
     "execution_count": 160,
     "metadata": {},
     "output_type": "execute_result"
    }
   ],
   "source": [
    "mask = np.column_stack([df_stations[col].str.contains(\"Clermont\", na=False) for col in df_stations.columns if df_stations[col].dtype=='object' ])\n",
    "df_stations.loc[mask.any(axis=1)]"
   ]
  },
  {
   "cell_type": "code",
   "execution_count": 161,
   "metadata": {
    "collapsed": false
   },
   "outputs": [
    {
     "data": {
      "text/plain": [
       "Code gare                                             455\n",
       "Intitulé gare                            Clermont-Ferrand\n",
       "Intitulé fronton de gare                 Clermont-Ferrand\n",
       "Gare DRG                                              Oui\n",
       "Gare étrangère                                        Non\n",
       "Agence gare                     AG Centre Est Rhône Alpin\n",
       "Région SNCF                               REGION AUVERGNE\n",
       "Unité gare                                UG EEV AUVERGNE\n",
       "UT                                                    NaN\n",
       "Nbre plateformes                                        1\n",
       "N° plateforme                                           1\n",
       "Intitulé plateforme                      Clermont-Ferrand\n",
       "Code postal                                         63000\n",
       "Commune                                  Clermont-Ferrand\n",
       "Département - Commune                              63-113\n",
       "Département                                   Puy-de-Dôme\n",
       "Région                               Auvergne-Rhône-Alpes\n",
       "Longitude WGS84                                   3.10054\n",
       "Latitude WGS84                                    45.7789\n",
       "Code UIC                                       8.7734e+07\n",
       "TVS                                                   CLF\n",
       "Segment DRG                                             a\n",
       "Niveau de service                                       2\n",
       "SOP                                                   NaN\n",
       "RG                                                    NaN\n",
       "Date fin validité plateforme                          NaN\n",
       "WGS 84                                45.778945, 3.100543\n",
       "Name: 1467, dtype: object"
      ]
     },
     "execution_count": 161,
     "metadata": {},
     "output_type": "execute_result"
    }
   ],
   "source": [
    "df_stations.iloc[1467]"
   ]
  },
  {
   "cell_type": "code",
   "execution_count": 111,
   "metadata": {
    "collapsed": false
   },
   "outputs": [],
   "source": [
    "def get_data(origin,destination,date):\n",
    "    \n",
    "    null='null'\n",
    "    false='false'\n",
    "    true='true'\n",
    "    destination= \"Brive-la-Gaillarde\"\n",
    "    destinationCode = \"FRBVE\"\n",
    "\n",
    "    payload= {\"origin\":\"Aurillac\",\"originCode\":\"FRAUR\",\"originLocation\":null,\"destination\":\"Clermont-Ferrand\",\"destinationCode\":destinationCode,\"destinationLocation\":null,\"directTravel\":false,\"asymmetrical\":false,\"professional\":false,\"customerAccount\":false,\"oneWayTravel\":true,\"departureDate\":\"2017-08-21T13:00:00\",\"returnDate\":null,\"travelClass\":\"SECOND\",\"country\":\"FR\",\"language\":\"fr\",\"busBestPriceOperator\":null,\"busOnly\":false,\"passengers\":[{\"travelerId\":null,\"profile\":\"ADULT\",\"age\":26,\"birthDate\":null,\"fidelityCardType\":\"NONE\",\"fidelityCardNumber\":null,\"commercialCardNumber\":null,\"commercialCardType\":\"NONE\",\"promoCode\":\"\",\"lastName\":null,\"firstName\":null,\"phoneNumer\":null,\"hanInformation\":null}],\"animals\":[],\"bike\":\"NONE\",\"withRecliningSeat\":false,\"physicalSpace\":null,\"fares\":[],\"withBestPrices\":false,\"highlightedTravel\":null,\"nextOrPrevious\":false,\"source\":\"FORM_SUBMIT\",\"targetPrice\":null,\"han\":false,\"$initial\":true,\"$queryId\":\"SRlEN\"}\n",
    "\n",
    "    payload = json.dumps(payload)\n",
    "    payload = payload.replace(\"\\\"null\\\"\",\"null\").replace(\"\\\"false\\\"\",\"false\").replace(\"\\\"true\\\"\",\"true\")\n",
    "    return payload"
   ]
  },
  {
   "cell_type": "code",
   "execution_count": 112,
   "metadata": {
    "collapsed": false
   },
   "outputs": [],
   "source": [
    "data = get_data('Angouleme','Tours',datetime(2017,8,21,8,0,0))"
   ]
  },
  {
   "cell_type": "code",
   "execution_count": 113,
   "metadata": {
    "collapsed": false
   },
   "outputs": [
    {
     "name": "stdout",
     "output_type": "stream",
     "text": [
      "{\"origin\": \"Aurillac\", \"originLocation\": null, \"nextOrPrevious\": false, \"destinationCode\": \"FRBVE\", \"$queryId\": \"SRlEN\", \"busOnly\": false, \"customerAccount\": false, \"$initial\": true, \"asymmetrical\": false, \"departureDate\": \"2017-08-21T13:00:00\", \"withBestPrices\": false, \"directTravel\": false, \"fares\": [], \"targetPrice\": null, \"passengers\": [{\"travelerId\": null, \"profile\": \"ADULT\", \"phoneNumer\": null, \"fidelityCardType\": \"NONE\", \"birthDate\": null, \"fidelityCardNumber\": null, \"commercialCardType\": \"NONE\", \"firstName\": null, \"commercialCardNumber\": null, \"lastName\": null, \"age\": 26, \"promoCode\": \"\", \"hanInformation\": null}], \"animals\": [], \"han\": false, \"language\": \"fr\", \"source\": \"FORM_SUBMIT\", \"country\": \"FR\", \"destination\": \"Clermont-Ferrand\", \"returnDate\": null, \"destinationLocation\": null, \"busBestPriceOperator\": null, \"oneWayTravel\": true, \"bike\": \"NONE\", \"highlightedTravel\": null, \"withRecliningSeat\": false, \"professional\": false, \"physicalSpace\": null, \"travelClass\": \"SECOND\", \"originCode\": \"FRAUR\"}\n"
     ]
    }
   ],
   "source": [
    "print data"
   ]
  },
  {
   "cell_type": "code",
   "execution_count": 117,
   "metadata": {
    "collapsed": false
   },
   "outputs": [],
   "source": [
    "response = requests.request(\"POST\", URL, data=data, headers=headers)"
   ]
  },
  {
   "cell_type": "code",
   "execution_count": 118,
   "metadata": {
    "collapsed": false
   },
   "outputs": [
    {
     "name": "stdout",
     "output_type": "stream",
     "text": [
      "<type 'dict'>\n"
     ]
    }
   ],
   "source": [
    "print type(response.json())\n",
    "result_dict = response.json()['results']"
   ]
  },
  {
   "cell_type": "code",
   "execution_count": 119,
   "metadata": {
    "collapsed": false
   },
   "outputs": [
    {
     "name": "stdout",
     "output_type": "stream",
     "text": [
      "3\n"
     ]
    }
   ],
   "source": [
    "print len(result_dict)\n"
   ]
  },
  {
   "cell_type": "code",
   "execution_count": 120,
   "metadata": {
    "collapsed": false
   },
   "outputs": [
    {
     "data": {
      "text/plain": [
       "[u'origin',\n",
       " u'pushProposal',\n",
       " u'priceProposals',\n",
       " u'hasPerturbations',\n",
       " u'destinationCode',\n",
       " u'transporters',\n",
       " u'segments',\n",
       " u'destination',\n",
       " u'pushPrice',\n",
       " u'containsTgvPopFares',\n",
       " u'arrivalDate',\n",
       " u'journeyId',\n",
       " u'unsellableReason',\n",
       " u'departureDate',\n",
       " u'pushProposalType',\n",
       " u'duration',\n",
       " u'realTimeInformations',\n",
       " u'transactionId',\n",
       " u'id',\n",
       " u'originCode']"
      ]
     },
     "execution_count": 120,
     "metadata": {},
     "output_type": "execute_result"
    }
   ],
   "source": [
    "result_dict[0].keys()"
   ]
  },
  {
   "cell_type": "code",
   "execution_count": 121,
   "metadata": {
    "collapsed": false
   },
   "outputs": [
    {
     "data": {
      "text/html": [
       "<div>\n",
       "<style>\n",
       "    .dataframe thead tr:only-child th {\n",
       "        text-align: right;\n",
       "    }\n",
       "\n",
       "    .dataframe thead th {\n",
       "        text-align: left;\n",
       "    }\n",
       "\n",
       "    .dataframe tbody tr th {\n",
       "        vertical-align: top;\n",
       "    }\n",
       "</style>\n",
       "<table border=\"1\" class=\"dataframe\">\n",
       "  <thead>\n",
       "    <tr style=\"text-align: right;\">\n",
       "      <th></th>\n",
       "      <th>arrivalDate</th>\n",
       "      <th>availablePhysicalSpaces</th>\n",
       "      <th>baseClasses</th>\n",
       "      <th>bookingType</th>\n",
       "      <th>boundaryPoint</th>\n",
       "      <th>carrierCode</th>\n",
       "      <th>departureDate</th>\n",
       "      <th>destination</th>\n",
       "      <th>destinationCode</th>\n",
       "      <th>destinationDetail</th>\n",
       "      <th>...</th>\n",
       "      <th>showRating</th>\n",
       "      <th>tctCodeList</th>\n",
       "      <th>ticketProvider</th>\n",
       "      <th>trainEquipment</th>\n",
       "      <th>trainNumber</th>\n",
       "      <th>trainPeriod</th>\n",
       "      <th>trainType</th>\n",
       "      <th>transporter</th>\n",
       "      <th>transporterRating</th>\n",
       "      <th>vehicleType</th>\n",
       "    </tr>\n",
       "  </thead>\n",
       "  <tbody>\n",
       "    <tr>\n",
       "      <th>0</th>\n",
       "      <td>2017-08-21T14:03:00</td>\n",
       "      <td>[B]</td>\n",
       "      <td>None</td>\n",
       "      <td>RI</td>\n",
       "      <td>None</td>\n",
       "      <td>SN</td>\n",
       "      <td>2017-08-21T12:55:00</td>\n",
       "      <td>FIGEAC GARE</td>\n",
       "      <td>FRFIG</td>\n",
       "      <td>{u'cityCode': u'FRFHV', u'cityLabel': u'FIGEAC...</td>\n",
       "      <td>...</td>\n",
       "      <td>False</td>\n",
       "      <td>[]</td>\n",
       "      <td>RR</td>\n",
       "      <td>None</td>\n",
       "      <td>71209</td>\n",
       "      <td>BLUE</td>\n",
       "      <td>TER</td>\n",
       "      <td>TER</td>\n",
       "      <td>None</td>\n",
       "      <td>TRAIN</td>\n",
       "    </tr>\n",
       "    <tr>\n",
       "      <th>1</th>\n",
       "      <td>2017-08-21T16:43:00</td>\n",
       "      <td>[B]</td>\n",
       "      <td>None</td>\n",
       "      <td>RI</td>\n",
       "      <td>None</td>\n",
       "      <td>SN</td>\n",
       "      <td>2017-08-21T15:30:00</td>\n",
       "      <td>BRIVE LA GAILLARDE</td>\n",
       "      <td>FRBVE</td>\n",
       "      <td>{u'cityCode': None, u'cityLabel': None, u'outs...</td>\n",
       "      <td>...</td>\n",
       "      <td>False</td>\n",
       "      <td>[]</td>\n",
       "      <td>RR</td>\n",
       "      <td>None</td>\n",
       "      <td>70258</td>\n",
       "      <td>BLUE</td>\n",
       "      <td>TER</td>\n",
       "      <td>TER</td>\n",
       "      <td>None</td>\n",
       "      <td>TRAIN</td>\n",
       "    </tr>\n",
       "  </tbody>\n",
       "</table>\n",
       "<p>2 rows × 33 columns</p>\n",
       "</div>"
      ],
      "text/plain": [
       "           arrivalDate availablePhysicalSpaces baseClasses bookingType  \\\n",
       "0  2017-08-21T14:03:00                     [B]        None          RI   \n",
       "1  2017-08-21T16:43:00                     [B]        None          RI   \n",
       "\n",
       "  boundaryPoint carrierCode        departureDate         destination  \\\n",
       "0          None          SN  2017-08-21T12:55:00         FIGEAC GARE   \n",
       "1          None          SN  2017-08-21T15:30:00  BRIVE LA GAILLARDE   \n",
       "\n",
       "  destinationCode                                  destinationDetail  \\\n",
       "0           FRFIG  {u'cityCode': u'FRFHV', u'cityLabel': u'FIGEAC...   \n",
       "1           FRBVE  {u'cityCode': None, u'cityLabel': None, u'outs...   \n",
       "\n",
       "      ...      showRating tctCodeList  ticketProvider trainEquipment  \\\n",
       "0     ...           False          []              RR           None   \n",
       "1     ...           False          []              RR           None   \n",
       "\n",
       "   trainNumber trainPeriod trainType transporter transporterRating vehicleType  \n",
       "0        71209        BLUE       TER         TER              None       TRAIN  \n",
       "1        70258        BLUE       TER         TER              None       TRAIN  \n",
       "\n",
       "[2 rows x 33 columns]"
      ]
     },
     "execution_count": 121,
     "metadata": {},
     "output_type": "execute_result"
    }
   ],
   "source": [
    "pd.DataFrame.from_records(result_dict[0]['segments'])"
   ]
  },
  {
   "cell_type": "code",
   "execution_count": 122,
   "metadata": {
    "collapsed": false
   },
   "outputs": [
    {
     "data": {
      "text/plain": [
       "[u'FLEX']"
      ]
     },
     "execution_count": 122,
     "metadata": {},
     "output_type": "execute_result"
    }
   ],
   "source": [
    "result_dict[0]['priceProposals'].keys()"
   ]
  },
  {
   "cell_type": "code",
   "execution_count": 123,
   "metadata": {
    "collapsed": false
   },
   "outputs": [
    {
     "data": {
      "text/html": [
       "<div>\n",
       "<style>\n",
       "    .dataframe thead tr:only-child th {\n",
       "        text-align: right;\n",
       "    }\n",
       "\n",
       "    .dataframe thead th {\n",
       "        text-align: left;\n",
       "    }\n",
       "\n",
       "    .dataframe tbody tr th {\n",
       "        vertical-align: top;\n",
       "    }\n",
       "</style>\n",
       "<table border=\"1\" class=\"dataframe\">\n",
       "  <thead>\n",
       "    <tr style=\"text-align: right;\">\n",
       "      <th></th>\n",
       "      <th>FLEX</th>\n",
       "    </tr>\n",
       "  </thead>\n",
       "  <tbody>\n",
       "    <tr>\n",
       "      <th>amount</th>\n",
       "      <td>25.7</td>\n",
       "    </tr>\n",
       "    <tr>\n",
       "      <th>amountWithMandatorySpaceComfort</th>\n",
       "      <td>25.7</td>\n",
       "    </tr>\n",
       "    <tr>\n",
       "      <th>animalDetails</th>\n",
       "      <td>[]</td>\n",
       "    </tr>\n",
       "    <tr>\n",
       "      <th>appliedDiscount</th>\n",
       "      <td>0</td>\n",
       "    </tr>\n",
       "    <tr>\n",
       "      <th>bookingFee</th>\n",
       "      <td>None</td>\n",
       "    </tr>\n",
       "    <tr>\n",
       "      <th>containsTgvPopFare</th>\n",
       "      <td>False</td>\n",
       "    </tr>\n",
       "    <tr>\n",
       "      <th>currency</th>\n",
       "      <td>EUR</td>\n",
       "    </tr>\n",
       "    <tr>\n",
       "      <th>detailMessages</th>\n",
       "      <td>[]</td>\n",
       "    </tr>\n",
       "    <tr>\n",
       "      <th>eligibleForCancellationInsurance</th>\n",
       "      <td>False</td>\n",
       "    </tr>\n",
       "    <tr>\n",
       "      <th>flags</th>\n",
       "      <td>[]</td>\n",
       "    </tr>\n",
       "    <tr>\n",
       "      <th>flexibleProServices</th>\n",
       "      <td>False</td>\n",
       "    </tr>\n",
       "    <tr>\n",
       "      <th>hasBicycle</th>\n",
       "      <td>False</td>\n",
       "    </tr>\n",
       "    <tr>\n",
       "      <th>hasPlacementOptions</th>\n",
       "      <td>False</td>\n",
       "    </tr>\n",
       "    <tr>\n",
       "      <th>id</th>\n",
       "      <td>1</td>\n",
       "    </tr>\n",
       "    <tr>\n",
       "      <th>passengerDetails</th>\n",
       "      <td>[{u'travelerId': None, u'globalPassenger': Fal...</td>\n",
       "    </tr>\n",
       "    <tr>\n",
       "      <th>promo</th>\n",
       "      <td>False</td>\n",
       "    </tr>\n",
       "    <tr>\n",
       "      <th>promoCodeCount</th>\n",
       "      <td>{}</td>\n",
       "    </tr>\n",
       "    <tr>\n",
       "      <th>pushInformation</th>\n",
       "      <td>{u'pushPrice': 0.0, u'pushType': None}</td>\n",
       "    </tr>\n",
       "    <tr>\n",
       "      <th>referenceAmount</th>\n",
       "      <td>0</td>\n",
       "    </tr>\n",
       "    <tr>\n",
       "      <th>remainingSeat</th>\n",
       "      <td>None</td>\n",
       "    </tr>\n",
       "    <tr>\n",
       "      <th>returnMandatory</th>\n",
       "      <td>False</td>\n",
       "    </tr>\n",
       "    <tr>\n",
       "      <th>segmentDetails</th>\n",
       "      <td>[{u'overbooked': False, u'placementOptions': {...</td>\n",
       "    </tr>\n",
       "    <tr>\n",
       "      <th>spaceComfortMandatory</th>\n",
       "      <td>False</td>\n",
       "    </tr>\n",
       "    <tr>\n",
       "      <th>type</th>\n",
       "      <td>FLEX</td>\n",
       "    </tr>\n",
       "  </tbody>\n",
       "</table>\n",
       "</div>"
      ],
      "text/plain": [
       "                                                                               FLEX\n",
       "amount                                                                         25.7\n",
       "amountWithMandatorySpaceComfort                                                25.7\n",
       "animalDetails                                                                    []\n",
       "appliedDiscount                                                                   0\n",
       "bookingFee                                                                     None\n",
       "containsTgvPopFare                                                            False\n",
       "currency                                                                        EUR\n",
       "detailMessages                                                                   []\n",
       "eligibleForCancellationInsurance                                              False\n",
       "flags                                                                            []\n",
       "flexibleProServices                                                           False\n",
       "hasBicycle                                                                    False\n",
       "hasPlacementOptions                                                           False\n",
       "id                                                                                1\n",
       "passengerDetails                  [{u'travelerId': None, u'globalPassenger': Fal...\n",
       "promo                                                                         False\n",
       "promoCodeCount                                                                   {}\n",
       "pushInformation                              {u'pushPrice': 0.0, u'pushType': None}\n",
       "referenceAmount                                                                   0\n",
       "remainingSeat                                                                  None\n",
       "returnMandatory                                                               False\n",
       "segmentDetails                    [{u'overbooked': False, u'placementOptions': {...\n",
       "spaceComfortMandatory                                                         False\n",
       "type                                                                           FLEX"
      ]
     },
     "execution_count": 123,
     "metadata": {},
     "output_type": "execute_result"
    }
   ],
   "source": [
    "pd.DataFrame.from_dict(result_dict[0]['priceProposals'])"
   ]
  },
  {
   "cell_type": "code",
   "execution_count": 124,
   "metadata": {
    "collapsed": false
   },
   "outputs": [
    {
     "data": {
      "text/html": [
       "<div>\n",
       "<style>\n",
       "    .dataframe thead tr:only-child th {\n",
       "        text-align: right;\n",
       "    }\n",
       "\n",
       "    .dataframe thead th {\n",
       "        text-align: left;\n",
       "    }\n",
       "\n",
       "    .dataframe tbody tr th {\n",
       "        vertical-align: top;\n",
       "    }\n",
       "</style>\n",
       "<table border=\"1\" class=\"dataframe\">\n",
       "  <thead>\n",
       "    <tr style=\"text-align: right;\">\n",
       "      <th></th>\n",
       "      <th>0</th>\n",
       "    </tr>\n",
       "  </thead>\n",
       "  <tbody>\n",
       "    <tr>\n",
       "      <th>0</th>\n",
       "      <td>TER</td>\n",
       "    </tr>\n",
       "    <tr>\n",
       "      <th>1</th>\n",
       "      <td>TER</td>\n",
       "    </tr>\n",
       "  </tbody>\n",
       "</table>\n",
       "</div>"
      ],
      "text/plain": [
       "     0\n",
       "0  TER\n",
       "1  TER"
      ]
     },
     "execution_count": 124,
     "metadata": {},
     "output_type": "execute_result"
    }
   ],
   "source": [
    "pd.DataFrame.from_dict(result_dict[0]['transporters'])"
   ]
  },
  {
   "cell_type": "code",
   "execution_count": 12,
   "metadata": {
    "collapsed": false
   },
   "outputs": [
    {
     "data": {
      "text/plain": [
       "u'NONE'"
      ]
     },
     "execution_count": 12,
     "metadata": {},
     "output_type": "execute_result"
    }
   ],
   "source": [
    "result_dict[0]['unsellableReason']"
   ]
  },
  {
   "cell_type": "code",
   "execution_count": 125,
   "metadata": {
    "collapsed": false
   },
   "outputs": [],
   "source": [
    "def convert_result_to_dataframe(result):\n",
    "    \n",
    "    df =pd.DataFrame()\n",
    "    #Tracer()() #this one triggers the debugger\n",
    " \n",
    "    df = pd.DataFrame.from_records(result['segments'])\n",
    "    df[['departureDate','arrivalDate']] = df[['departureDate','arrivalDate']].applymap(lambda x : pd.to_datetime(x, format =\"%Y-%m-%dT%H:%M:%S\"))\n",
    "    df['total_duration'] = df['arrivalDate'].iloc[-1]-df['departureDate'].iloc[0]\n",
    "    df['trip_name']=u' to '.join([result['origin'],result['destination']])\n",
    "    df['trip_id']=result['id']\n",
    "    df['unsellableReason']=result['unsellableReason']\n",
    "    df['TGV']='TGV' in df['transporter'].values\n",
    "    df['total_trains']= df.shape[0]\n",
    "\n",
    "    \n",
    "    for price_key in result['priceProposals'].keys():\n",
    "        df[''.join([\"price_\",price_key])]=result['priceProposals'][price_key]['amount']\n",
    "                   \n",
    "    return df\n",
    "\n",
    "def concat_results(json_result):\n",
    "    df =pd.DataFrame()\n",
    "    for result in json_result:\n",
    "        \n",
    "        try:\n",
    "            df_result = convert_result_to_dataframe(result)\n",
    "            df = pd.concat([df,df_result],axis =0)\n",
    "        except Exception as e:\n",
    "            print \"error .....................\"\n",
    "    return df\n",
    "    \n",
    "    \n",
    "    "
   ]
  },
  {
   "cell_type": "code",
   "execution_count": 126,
   "metadata": {
    "collapsed": false
   },
   "outputs": [
    {
     "data": {
      "text/plain": [
       "3"
      ]
     },
     "execution_count": 126,
     "metadata": {},
     "output_type": "execute_result"
    }
   ],
   "source": [
    "len(result_dict)"
   ]
  },
  {
   "cell_type": "code",
   "execution_count": 127,
   "metadata": {
    "collapsed": false
   },
   "outputs": [
    {
     "data": {
      "text/plain": [
       "list"
      ]
     },
     "execution_count": 127,
     "metadata": {},
     "output_type": "execute_result"
    }
   ],
   "source": [
    "type(result_dict)"
   ]
  },
  {
   "cell_type": "code",
   "execution_count": 148,
   "metadata": {
    "collapsed": false
   },
   "outputs": [
    {
     "data": {
      "text/html": [
       "<div>\n",
       "<style>\n",
       "    .dataframe thead tr:only-child th {\n",
       "        text-align: right;\n",
       "    }\n",
       "\n",
       "    .dataframe thead th {\n",
       "        text-align: left;\n",
       "    }\n",
       "\n",
       "    .dataframe tbody tr th {\n",
       "        vertical-align: top;\n",
       "    }\n",
       "</style>\n",
       "<table border=\"1\" class=\"dataframe\">\n",
       "  <thead>\n",
       "    <tr style=\"text-align: right;\">\n",
       "      <th></th>\n",
       "      <th>duration</th>\n",
       "    </tr>\n",
       "    <tr>\n",
       "      <th>trip_id</th>\n",
       "      <th></th>\n",
       "    </tr>\n",
       "  </thead>\n",
       "  <tbody>\n",
       "    <tr>\n",
       "      <th>6b11b79b-e02f-45c2-8c9a-d11373575ec9</th>\n",
       "      <td>6540000</td>\n",
       "    </tr>\n",
       "    <tr>\n",
       "      <th>823b67bc-9eb8-4fd5-b5ea-f6aa8c7d8b3a</th>\n",
       "      <td>4230000</td>\n",
       "    </tr>\n",
       "    <tr>\n",
       "      <th>a79bb39c-9cfd-4b47-8e64-8864c3a4b3bf</th>\n",
       "      <td>6480000</td>\n",
       "    </tr>\n",
       "  </tbody>\n",
       "</table>\n",
       "</div>"
      ],
      "text/plain": [
       "                                      duration\n",
       "trip_id                                       \n",
       "6b11b79b-e02f-45c2-8c9a-d11373575ec9   6540000\n",
       "823b67bc-9eb8-4fd5-b5ea-f6aa8c7d8b3a   4230000\n",
       "a79bb39c-9cfd-4b47-8e64-8864c3a4b3bf   6480000"
      ]
     },
     "execution_count": 148,
     "metadata": {},
     "output_type": "execute_result"
    }
   ],
   "source": [
    "test_df.groupby('trip_id')[['duration']].mean()"
   ]
  },
  {
   "cell_type": "code",
   "execution_count": 129,
   "metadata": {
    "collapsed": false
   },
   "outputs": [
    {
     "data": {
      "text/plain": [
       "Timedelta('0 days 03:48:00')"
      ]
     },
     "execution_count": 129,
     "metadata": {},
     "output_type": "execute_result"
    }
   ],
   "source": [
    "test_df.iloc[1].arrivalDate-test_df.iloc[0].departureDate"
   ]
  }
 ],
 "metadata": {
  "anaconda-cloud": {},
  "kernelspec": {
   "display_name": "Python [conda root]",
   "language": "python",
   "name": "conda-root-py"
  },
  "language_info": {
   "codemirror_mode": {
    "name": "ipython",
    "version": 2
   },
   "file_extension": ".py",
   "mimetype": "text/x-python",
   "name": "python",
   "nbconvert_exporter": "python",
   "pygments_lexer": "ipython2",
   "version": "2.7.12"
  }
 },
 "nbformat": 4,
 "nbformat_minor": 2
}
