{
 "cells": [
  {
   "cell_type": "code",
   "execution_count": 70,
   "metadata": {
    "collapsed": false
   },
   "outputs": [],
   "source": [
    "import pandas as pd\n",
    "from service import sncf_routes\n",
    "from datetime import timedelta,datetime"
   ]
  },
  {
   "cell_type": "code",
   "execution_count": 75,
   "metadata": {
    "collapsed": false
   },
   "outputs": [],
   "source": [
    "trip1={'origin' :'Aurillac', 'destinations':['Saint Brieuc']}\n",
    "trip2={'origin' :'Ussel', 'destinations':['Saint Brieuc']}\n",
    "trip3={'origin' :'Tulle', 'destinations':['Saint Brieuc']}\n",
    "trip4={'origin' :'Brive la Gaillarde', 'destinations':['Saint Brieuc']}\n",
    "trip5={'origin' :'Perigueux', 'destinations':['Saint Brieuc']}\n",
    "trip6={'origin' :'Clermont Ferrand', 'destinations':['Saint Brieuc']}\n",
    "trip7={'origin' :'Murat', 'destinations':['Saint Brieuc']}\n",
    "trip8={'origin' :'Aubusson', 'destinations':['Saint Brieuc']}\n",
    "trip9={'origin' :'Limoges', 'destinations':['Saint Brieuc']}\n",
    "trip10={'origin' :'Angouleme', 'destinations':['Angers']}\n",
    "trip11={'origin' :'Angers', 'destinations':['Saint Brieuc']}\n",
    "\n",
    "trip_list = [trip1,trip2,trip3,trip4,trip5,trip6,trip7,trip8,trip9]\n",
    "trip_list = [trip10,trip11]\n",
    "dates = []\n",
    "\n",
    "for delta in range(0,40):\n",
    "    dt_string = datetime(2017,8,8)+ timedelta(days=delta)\n",
    "    dates.append(dt_string.isoformat())\n"
   ]
  },
  {
   "cell_type": "code",
   "execution_count": 76,
   "metadata": {
    "collapsed": false
   },
   "outputs": [
    {
     "name": "stdout",
     "output_type": "stream",
     "text": [
      "[{'origin': 'Angouleme', 'destinations': ['Angers']}, {'origin': 'Angers', 'destinations': ['Saint Brieuc']}]\n",
      "['2017-08-08T00:00:00', '2017-08-09T00:00:00']\n"
     ]
    }
   ],
   "source": [
    "print trip_list\n",
    "print dates"
   ]
  },
  {
   "cell_type": "code",
   "execution_count": 77,
   "metadata": {
    "collapsed": false
   },
   "outputs": [
    {
     "name": "stdout",
     "output_type": "stream",
     "text": [
      "200\n",
      "\n",
      " Itineraries found for Angouleme-Angers: 1\n",
      "\n",
      "200\n",
      "\n",
      " Itineraries found for Angouleme-Angers: 6\n",
      "\n",
      "BUS\n",
      "200\n",
      "\n",
      " Itineraries found for Angers-Saint Brieuc: 1\n",
      "\n",
      "200\n",
      "\n",
      " Itineraries found for Angers-Saint Brieuc: 6\n",
      "\n",
      "BUS\n"
     ]
    }
   ],
   "source": [
    "df = pd.DataFrame()\n",
    "for trip in trip_list:\n",
    "    origin = trip['origin']\n",
    "    for destination in trip['destinations']:\n",
    "        for dt in dates:\n",
    "            df_result = sncf_routes.get_routes(origin,destination,dt)\n",
    "            df = pd.concat([df,df_result],axis=0)       "
   ]
  },
  {
   "cell_type": "code",
   "execution_count": 78,
   "metadata": {
    "collapsed": true
   },
   "outputs": [],
   "source": [
    "df.to_csv('train_test_3.csv',index=False,encoding='utf-8')"
   ]
  },
  {
   "cell_type": "markdown",
   "metadata": {},
   "source": [
    "## Add to existing dataset"
   ]
  },
  {
   "cell_type": "code",
   "execution_count": 16,
   "metadata": {
    "collapsed": false
   },
   "outputs": [],
   "source": [
    "def add_to_existing_data(df):\n",
    "    df_original = pd.read_csv('train_test.csv')\n",
    "    date_cols =['trip_departureDate','trip_arrivalDate','departureDate','arrivalDate']\n",
    "    df_original[date_cols] = df_original[date_cols].applymap(lambda x: pd.to_datetime(x, format=\"%Y-%m-%dT%H:%M:%S\"))\n",
    "    df_original.total_duration = pd.to_timedelta(df_original.total_duration)\n",
    "    df_original = pd.concat([df_original,df],axis=0)\n",
    "    df_original.to_csv('train_test_2.csv',index=False,encoding='utf-8')\n",
    "    "
   ]
  },
  {
   "cell_type": "code",
   "execution_count": null,
   "metadata": {
    "collapsed": true
   },
   "outputs": [],
   "source": []
  },
  {
   "cell_type": "code",
   "execution_count": 17,
   "metadata": {
    "collapsed": false
   },
   "outputs": [],
   "source": []
  },
  {
   "cell_type": "markdown",
   "metadata": {},
   "source": [
    "## Aggregate data"
   ]
  },
  {
   "cell_type": "code",
   "execution_count": 18,
   "metadata": {
    "collapsed": false
   },
   "outputs": [
    {
     "data": {
      "text/html": [
       "<div>\n",
       "<style>\n",
       "    .dataframe thead tr:only-child th {\n",
       "        text-align: right;\n",
       "    }\n",
       "\n",
       "    .dataframe thead th {\n",
       "        text-align: left;\n",
       "    }\n",
       "\n",
       "    .dataframe tbody tr th {\n",
       "        vertical-align: top;\n",
       "    }\n",
       "</style>\n",
       "<table border=\"1\" class=\"dataframe\">\n",
       "  <thead>\n",
       "    <tr style=\"text-align: right;\">\n",
       "      <th></th>\n",
       "      <th>TGV</th>\n",
       "      <th>arrivalDate</th>\n",
       "      <th>availablePhysicalSpaces</th>\n",
       "      <th>baseClasses</th>\n",
       "      <th>bookingType</th>\n",
       "      <th>boundaryPoint</th>\n",
       "      <th>carrierCode</th>\n",
       "      <th>departureDate</th>\n",
       "      <th>destination</th>\n",
       "      <th>destinationCode</th>\n",
       "      <th>...</th>\n",
       "      <th>trainType</th>\n",
       "      <th>transporter</th>\n",
       "      <th>transporterRating</th>\n",
       "      <th>trip_arrivalDate</th>\n",
       "      <th>trip_departureDate</th>\n",
       "      <th>trip_id</th>\n",
       "      <th>trip_name</th>\n",
       "      <th>trip_rank</th>\n",
       "      <th>unsellableReason</th>\n",
       "      <th>vehicleType</th>\n",
       "    </tr>\n",
       "  </thead>\n",
       "  <tbody>\n",
       "    <tr>\n",
       "      <th>0</th>\n",
       "      <td>True</td>\n",
       "      <td>2017-08-16 07:49:00</td>\n",
       "      <td>[A, B]</td>\n",
       "      <td>None</td>\n",
       "      <td>RI</td>\n",
       "      <td>None</td>\n",
       "      <td>SN</td>\n",
       "      <td>2017-08-16 06:23:00</td>\n",
       "      <td>LE MANS GARE</td>\n",
       "      <td>FRAET</td>\n",
       "      <td>...</td>\n",
       "      <td>TER</td>\n",
       "      <td>TER</td>\n",
       "      <td>None</td>\n",
       "      <td>2017-08-16T10:12:00</td>\n",
       "      <td>2017-08-16T06:23:00</td>\n",
       "      <td>21bef0c0-3749-4f27-af81-8ede3b47bae2</td>\n",
       "      <td>TOURS to SAINT BRIEUC</td>\n",
       "      <td>0</td>\n",
       "      <td>NONE</td>\n",
       "      <td>TRAIN</td>\n",
       "    </tr>\n",
       "    <tr>\n",
       "      <th>1</th>\n",
       "      <td>True</td>\n",
       "      <td>2017-08-16 10:12:00</td>\n",
       "      <td>[A, B]</td>\n",
       "      <td>None</td>\n",
       "      <td>RN</td>\n",
       "      <td>None</td>\n",
       "      <td>SN</td>\n",
       "      <td>2017-08-16 08:39:00</td>\n",
       "      <td>SAINT BRIEUC</td>\n",
       "      <td>FRSBK</td>\n",
       "      <td>...</td>\n",
       "      <td>TGA</td>\n",
       "      <td>TGV</td>\n",
       "      <td>None</td>\n",
       "      <td>2017-08-16T10:12:00</td>\n",
       "      <td>2017-08-16T06:23:00</td>\n",
       "      <td>21bef0c0-3749-4f27-af81-8ede3b47bae2</td>\n",
       "      <td>TOURS to SAINT BRIEUC</td>\n",
       "      <td>1</td>\n",
       "      <td>NONE</td>\n",
       "      <td>TRAIN</td>\n",
       "    </tr>\n",
       "    <tr>\n",
       "      <th>0</th>\n",
       "      <td>True</td>\n",
       "      <td>2017-08-16 08:56:00</td>\n",
       "      <td>[A, B]</td>\n",
       "      <td>None</td>\n",
       "      <td>RI</td>\n",
       "      <td>None</td>\n",
       "      <td>SN</td>\n",
       "      <td>2017-08-16 07:53:00</td>\n",
       "      <td>LE MANS GARE</td>\n",
       "      <td>FRAET</td>\n",
       "      <td>...</td>\n",
       "      <td>TER</td>\n",
       "      <td>TER</td>\n",
       "      <td>None</td>\n",
       "      <td>2017-08-16T11:23:00</td>\n",
       "      <td>2017-08-16T07:53:00</td>\n",
       "      <td>f4b8652a-a620-4c50-aab4-858beb34acb7</td>\n",
       "      <td>TOURS to SAINT BRIEUC</td>\n",
       "      <td>0</td>\n",
       "      <td>NONE</td>\n",
       "      <td>TRAIN</td>\n",
       "    </tr>\n",
       "    <tr>\n",
       "      <th>1</th>\n",
       "      <td>True</td>\n",
       "      <td>2017-08-16 10:07:00</td>\n",
       "      <td>[A, B]</td>\n",
       "      <td>None</td>\n",
       "      <td>RN</td>\n",
       "      <td>None</td>\n",
       "      <td>SN</td>\n",
       "      <td>2017-08-16 09:12:00</td>\n",
       "      <td>RENNES</td>\n",
       "      <td>FRRNS</td>\n",
       "      <td>...</td>\n",
       "      <td>TGA</td>\n",
       "      <td>TGV</td>\n",
       "      <td>None</td>\n",
       "      <td>2017-08-16T11:23:00</td>\n",
       "      <td>2017-08-16T07:53:00</td>\n",
       "      <td>f4b8652a-a620-4c50-aab4-858beb34acb7</td>\n",
       "      <td>TOURS to SAINT BRIEUC</td>\n",
       "      <td>1</td>\n",
       "      <td>NONE</td>\n",
       "      <td>TRAIN</td>\n",
       "    </tr>\n",
       "    <tr>\n",
       "      <th>2</th>\n",
       "      <td>True</td>\n",
       "      <td>2017-08-16 11:23:00</td>\n",
       "      <td>[A, B]</td>\n",
       "      <td>None</td>\n",
       "      <td>RI</td>\n",
       "      <td>None</td>\n",
       "      <td>SN</td>\n",
       "      <td>2017-08-16 10:34:00</td>\n",
       "      <td>SAINT BRIEUC</td>\n",
       "      <td>FRSBK</td>\n",
       "      <td>...</td>\n",
       "      <td>TER</td>\n",
       "      <td>TER</td>\n",
       "      <td>None</td>\n",
       "      <td>2017-08-16T11:23:00</td>\n",
       "      <td>2017-08-16T07:53:00</td>\n",
       "      <td>f4b8652a-a620-4c50-aab4-858beb34acb7</td>\n",
       "      <td>TOURS to SAINT BRIEUC</td>\n",
       "      <td>2</td>\n",
       "      <td>NONE</td>\n",
       "      <td>TRAIN</td>\n",
       "    </tr>\n",
       "  </tbody>\n",
       "</table>\n",
       "<p>5 rows × 46 columns</p>\n",
       "</div>"
      ],
      "text/plain": [
       "    TGV         arrivalDate availablePhysicalSpaces baseClasses bookingType  \\\n",
       "0  True 2017-08-16 07:49:00                  [A, B]        None          RI   \n",
       "1  True 2017-08-16 10:12:00                  [A, B]        None          RN   \n",
       "0  True 2017-08-16 08:56:00                  [A, B]        None          RI   \n",
       "1  True 2017-08-16 10:07:00                  [A, B]        None          RN   \n",
       "2  True 2017-08-16 11:23:00                  [A, B]        None          RI   \n",
       "\n",
       "  boundaryPoint carrierCode       departureDate   destination destinationCode  \\\n",
       "0          None          SN 2017-08-16 06:23:00  LE MANS GARE           FRAET   \n",
       "1          None          SN 2017-08-16 08:39:00  SAINT BRIEUC           FRSBK   \n",
       "0          None          SN 2017-08-16 07:53:00  LE MANS GARE           FRAET   \n",
       "1          None          SN 2017-08-16 09:12:00        RENNES           FRRNS   \n",
       "2          None          SN 2017-08-16 10:34:00  SAINT BRIEUC           FRSBK   \n",
       "\n",
       "      ...     trainType  transporter transporterRating     trip_arrivalDate  \\\n",
       "0     ...           TER          TER              None  2017-08-16T10:12:00   \n",
       "1     ...           TGA          TGV              None  2017-08-16T10:12:00   \n",
       "0     ...           TER          TER              None  2017-08-16T11:23:00   \n",
       "1     ...           TGA          TGV              None  2017-08-16T11:23:00   \n",
       "2     ...           TER          TER              None  2017-08-16T11:23:00   \n",
       "\n",
       "    trip_departureDate                               trip_id  \\\n",
       "0  2017-08-16T06:23:00  21bef0c0-3749-4f27-af81-8ede3b47bae2   \n",
       "1  2017-08-16T06:23:00  21bef0c0-3749-4f27-af81-8ede3b47bae2   \n",
       "0  2017-08-16T07:53:00  f4b8652a-a620-4c50-aab4-858beb34acb7   \n",
       "1  2017-08-16T07:53:00  f4b8652a-a620-4c50-aab4-858beb34acb7   \n",
       "2  2017-08-16T07:53:00  f4b8652a-a620-4c50-aab4-858beb34acb7   \n",
       "\n",
       "               trip_name  trip_rank unsellableReason vehicleType  \n",
       "0  TOURS to SAINT BRIEUC          0             NONE       TRAIN  \n",
       "1  TOURS to SAINT BRIEUC          1             NONE       TRAIN  \n",
       "0  TOURS to SAINT BRIEUC          0             NONE       TRAIN  \n",
       "1  TOURS to SAINT BRIEUC          1             NONE       TRAIN  \n",
       "2  TOURS to SAINT BRIEUC          2             NONE       TRAIN  \n",
       "\n",
       "[5 rows x 46 columns]"
      ]
     },
     "execution_count": 18,
     "metadata": {},
     "output_type": "execute_result"
    }
   ],
   "source": [
    "df.head()"
   ]
  },
  {
   "cell_type": "code",
   "execution_count": 80,
   "metadata": {
    "collapsed": false
   },
   "outputs": [
    {
     "data": {
      "text/html": [
       "<div>\n",
       "<style>\n",
       "    .dataframe thead tr:only-child th {\n",
       "        text-align: right;\n",
       "    }\n",
       "\n",
       "    .dataframe thead th {\n",
       "        text-align: left;\n",
       "    }\n",
       "\n",
       "    .dataframe tbody tr th {\n",
       "        vertical-align: top;\n",
       "    }\n",
       "</style>\n",
       "<table border=\"1\" class=\"dataframe\">\n",
       "  <thead>\n",
       "    <tr style=\"text-align: right;\">\n",
       "      <th></th>\n",
       "      <th>trip_name</th>\n",
       "      <th>trip_departureDate</th>\n",
       "      <th>trip_arrivalDate</th>\n",
       "      <th>total_duration</th>\n",
       "      <th>trip_id</th>\n",
       "      <th>min_price</th>\n",
       "    </tr>\n",
       "  </thead>\n",
       "  <tbody>\n",
       "    <tr>\n",
       "      <th>7</th>\n",
       "      <td>ANGOULEME GARE to ANGERS SAINT LAUD</td>\n",
       "      <td>2017-08-09T06:46:00</td>\n",
       "      <td>2017-08-09T09:01:00</td>\n",
       "      <td>02:15:00</td>\n",
       "      <td>90039553-cd6b-4d3a-9f7e-8defcc6debb5</td>\n",
       "      <td>37.1</td>\n",
       "    </tr>\n",
       "    <tr>\n",
       "      <th>2</th>\n",
       "      <td>ANGERS SAINT LAUD to SAINT BRIEUC</td>\n",
       "      <td>2017-08-09T07:44:00</td>\n",
       "      <td>2017-08-09T10:12:00</td>\n",
       "      <td>02:28:00</td>\n",
       "      <td>f23b13ea-876e-4ab4-b695-639d4c7bb025</td>\n",
       "      <td>51.5</td>\n",
       "    </tr>\n",
       "    <tr>\n",
       "      <th>8</th>\n",
       "      <td>ANGOULEME GARE to ANGERS SAINT LAUD</td>\n",
       "      <td>2017-08-09T07:46:00</td>\n",
       "      <td>2017-08-09T10:26:00</td>\n",
       "      <td>02:40:00</td>\n",
       "      <td>5d72626c-83e6-4b93-9de0-d1fcf09261d9</td>\n",
       "      <td>37.0</td>\n",
       "    </tr>\n",
       "    <tr>\n",
       "      <th>5</th>\n",
       "      <td>ANGERS SAINT LAUD to SAINT BRIEUC</td>\n",
       "      <td>2017-08-09T12:29:00</td>\n",
       "      <td>2017-08-09T15:12:00</td>\n",
       "      <td>02:43:00</td>\n",
       "      <td>baf2554d-ab82-4d73-a5f0-0fcd0cc678d1</td>\n",
       "      <td>33.9</td>\n",
       "    </tr>\n",
       "    <tr>\n",
       "      <th>1</th>\n",
       "      <td>ANGERS SAINT LAUD to SAINT BRIEUC</td>\n",
       "      <td>2017-08-08T18:29:00</td>\n",
       "      <td>2017-08-08T21:17:00</td>\n",
       "      <td>02:48:00</td>\n",
       "      <td>3045a395-4d98-4a50-8db6-4d9c966e99ca</td>\n",
       "      <td>44.8</td>\n",
       "    </tr>\n",
       "    <tr>\n",
       "      <th>4</th>\n",
       "      <td>ANGERS SAINT LAUD to SAINT BRIEUC</td>\n",
       "      <td>2017-08-09T10:29:00</td>\n",
       "      <td>2017-08-09T13:27:00</td>\n",
       "      <td>02:58:00</td>\n",
       "      <td>a9c53f86-d88e-403a-8643-2106ab199f4d</td>\n",
       "      <td>40.8</td>\n",
       "    </tr>\n",
       "    <tr>\n",
       "      <th>0</th>\n",
       "      <td>ANGERS MAITRE ECOLE to SAINT BRIEUC</td>\n",
       "      <td>2017-08-09T07:56:00</td>\n",
       "      <td>2017-08-09T11:23:00</td>\n",
       "      <td>03:27:00</td>\n",
       "      <td>15d62f0d-0a4c-404d-ad8c-ebc88f31ff86</td>\n",
       "      <td>44.6</td>\n",
       "    </tr>\n",
       "    <tr>\n",
       "      <th>3</th>\n",
       "      <td>ANGERS SAINT LAUD to SAINT BRIEUC</td>\n",
       "      <td>2017-08-09T07:48:00</td>\n",
       "      <td>2017-08-09T12:23:00</td>\n",
       "      <td>04:35:00</td>\n",
       "      <td>8e321946-79ca-4c08-81ff-95dcdfcd2656</td>\n",
       "      <td>122.5</td>\n",
       "    </tr>\n",
       "    <tr>\n",
       "      <th>9</th>\n",
       "      <td>ANGOULEME GARE to ANGERS SAINT LAUD</td>\n",
       "      <td>2017-08-09T08:55:00</td>\n",
       "      <td>2017-08-09T13:31:00</td>\n",
       "      <td>04:36:00</td>\n",
       "      <td>248a6deb-d7e7-47bf-926f-78873374f0b2</td>\n",
       "      <td>32.4</td>\n",
       "    </tr>\n",
       "    <tr>\n",
       "      <th>11</th>\n",
       "      <td>ANGOULEME GARE to ANGERS SAINT LAUD</td>\n",
       "      <td>2017-08-09T11:27:00</td>\n",
       "      <td>2017-08-09T16:10:00</td>\n",
       "      <td>04:43:00</td>\n",
       "      <td>ee3764ce-0e1c-4c91-b1c4-d712a8b45410</td>\n",
       "      <td>115.0</td>\n",
       "    </tr>\n",
       "    <tr>\n",
       "      <th>6</th>\n",
       "      <td>ANGOULEME GARE to ANGERS SAINT LAUD</td>\n",
       "      <td>2017-08-08T18:15:00</td>\n",
       "      <td>2017-08-08T23:10:00</td>\n",
       "      <td>04:55:00</td>\n",
       "      <td>677d8505-f4f0-4123-817a-437815bd92bc</td>\n",
       "      <td>128.5</td>\n",
       "    </tr>\n",
       "    <tr>\n",
       "      <th>10</th>\n",
       "      <td>ANGOULEME GARE to ANGERS SAINT LAUD</td>\n",
       "      <td>2017-08-09T10:15:00</td>\n",
       "      <td>2017-08-09T15:10:00</td>\n",
       "      <td>04:55:00</td>\n",
       "      <td>6e0d071d-b5de-4806-8e3c-3a3026ce2ae5</td>\n",
       "      <td>134.0</td>\n",
       "    </tr>\n",
       "  </tbody>\n",
       "</table>\n",
       "</div>"
      ],
      "text/plain": [
       "                              trip_name   trip_departureDate  \\\n",
       "7   ANGOULEME GARE to ANGERS SAINT LAUD  2017-08-09T06:46:00   \n",
       "2     ANGERS SAINT LAUD to SAINT BRIEUC  2017-08-09T07:44:00   \n",
       "8   ANGOULEME GARE to ANGERS SAINT LAUD  2017-08-09T07:46:00   \n",
       "5     ANGERS SAINT LAUD to SAINT BRIEUC  2017-08-09T12:29:00   \n",
       "1     ANGERS SAINT LAUD to SAINT BRIEUC  2017-08-08T18:29:00   \n",
       "4     ANGERS SAINT LAUD to SAINT BRIEUC  2017-08-09T10:29:00   \n",
       "0   ANGERS MAITRE ECOLE to SAINT BRIEUC  2017-08-09T07:56:00   \n",
       "3     ANGERS SAINT LAUD to SAINT BRIEUC  2017-08-09T07:48:00   \n",
       "9   ANGOULEME GARE to ANGERS SAINT LAUD  2017-08-09T08:55:00   \n",
       "11  ANGOULEME GARE to ANGERS SAINT LAUD  2017-08-09T11:27:00   \n",
       "6   ANGOULEME GARE to ANGERS SAINT LAUD  2017-08-08T18:15:00   \n",
       "10  ANGOULEME GARE to ANGERS SAINT LAUD  2017-08-09T10:15:00   \n",
       "\n",
       "       trip_arrivalDate total_duration                               trip_id  \\\n",
       "7   2017-08-09T09:01:00       02:15:00  90039553-cd6b-4d3a-9f7e-8defcc6debb5   \n",
       "2   2017-08-09T10:12:00       02:28:00  f23b13ea-876e-4ab4-b695-639d4c7bb025   \n",
       "8   2017-08-09T10:26:00       02:40:00  5d72626c-83e6-4b93-9de0-d1fcf09261d9   \n",
       "5   2017-08-09T15:12:00       02:43:00  baf2554d-ab82-4d73-a5f0-0fcd0cc678d1   \n",
       "1   2017-08-08T21:17:00       02:48:00  3045a395-4d98-4a50-8db6-4d9c966e99ca   \n",
       "4   2017-08-09T13:27:00       02:58:00  a9c53f86-d88e-403a-8643-2106ab199f4d   \n",
       "0   2017-08-09T11:23:00       03:27:00  15d62f0d-0a4c-404d-ad8c-ebc88f31ff86   \n",
       "3   2017-08-09T12:23:00       04:35:00  8e321946-79ca-4c08-81ff-95dcdfcd2656   \n",
       "9   2017-08-09T13:31:00       04:36:00  248a6deb-d7e7-47bf-926f-78873374f0b2   \n",
       "11  2017-08-09T16:10:00       04:43:00  ee3764ce-0e1c-4c91-b1c4-d712a8b45410   \n",
       "6   2017-08-08T23:10:00       04:55:00  677d8505-f4f0-4123-817a-437815bd92bc   \n",
       "10  2017-08-09T15:10:00       04:55:00  6e0d071d-b5de-4806-8e3c-3a3026ce2ae5   \n",
       "\n",
       "    min_price  \n",
       "7        37.1  \n",
       "2        51.5  \n",
       "8        37.0  \n",
       "5        33.9  \n",
       "1        44.8  \n",
       "4        40.8  \n",
       "0        44.6  \n",
       "3       122.5  \n",
       "9        32.4  \n",
       "11      115.0  \n",
       "6       128.5  \n",
       "10      134.0  "
      ]
     },
     "execution_count": 80,
     "metadata": {},
     "output_type": "execute_result"
    }
   ],
   "source": [
    "cols_price = [c for c in df.columns if 'price' in c]\n",
    "\n",
    "groupy = df[['trip_id','total_trains','trip_rank','total_duration','trip_departureDate','trip_arrivalDate','origin','destination','trip_name']+cols_price].groupby(['trip_name','trip_departureDate','trip_arrivalDate','total_duration','trip_id']).agg({'min_price':['mean']})\n",
    "\n",
    "groupy = groupy.reset_index()\n",
    "\n",
    "groupy.columns = groupy.columns.droplevel(1)\n",
    "\n",
    "groupy.sort_values(by='total_duration')"
   ]
  },
  {
   "cell_type": "code",
   "execution_count": null,
   "metadata": {
    "collapsed": false
   },
   "outputs": [],
   "source": [
    "groupy.info()"
   ]
  },
  {
   "cell_type": "code",
   "execution_count": null,
   "metadata": {
    "collapsed": false
   },
   "outputs": [],
   "source": [
    "groupy.trip_id.value_counts().max()"
   ]
  },
  {
   "cell_type": "code",
   "execution_count": null,
   "metadata": {
    "collapsed": false
   },
   "outputs": [],
   "source": [
    "min_index = groupy.groupby([\"trip_name\"])[\"min_price\"].nsmallest(10).reset_index()['level_1'].values"
   ]
  },
  {
   "cell_type": "code",
   "execution_count": null,
   "metadata": {
    "collapsed": false
   },
   "outputs": [],
   "source": [
    "groupy.iloc[min_index][groupy['trip_name'].str.contains('ANGERS')].sort_values(by=['trip_name','trip_departureDate'])"
   ]
  },
  {
   "cell_type": "code",
   "execution_count": null,
   "metadata": {
    "collapsed": false
   },
   "outputs": [],
   "source": [
    "df_original[df_original.trip_id.isin(['cceac3fb-009d-4a90-bc4f-96a492edd133','81af140e-ef03-4aa6-b6e1-d7ade660f722'])].sort_values(by='departureDate')"
   ]
  }
 ],
 "metadata": {
  "anaconda-cloud": {},
  "kernelspec": {
   "display_name": "Python [conda root]",
   "language": "python",
   "name": "conda-root-py"
  },
  "language_info": {
   "codemirror_mode": {
    "name": "ipython",
    "version": 2
   },
   "file_extension": ".py",
   "mimetype": "text/x-python",
   "name": "python",
   "nbconvert_exporter": "python",
   "pygments_lexer": "ipython2",
   "version": "2.7.12"
  }
 },
 "nbformat": 4,
 "nbformat_minor": 2
}
