{
 "cells": [
  {
   "cell_type": "code",
   "execution_count": 1,
   "metadata": {
    "collapsed": true
   },
   "outputs": [],
   "source": [
    "import pandas as pd"
   ]
  },
  {
   "cell_type": "code",
   "execution_count": 2,
   "metadata": {
    "collapsed": true
   },
   "outputs": [],
   "source": [
    "df = pd.read_csv('proxy_fr.csv',sep=';')"
   ]
  },
  {
   "cell_type": "code",
   "execution_count": 3,
   "metadata": {},
   "outputs": [
    {
     "data": {
      "text/html": [
       "<div>\n",
       "<style>\n",
       "    .dataframe thead tr:only-child th {\n",
       "        text-align: right;\n",
       "    }\n",
       "\n",
       "    .dataframe thead th {\n",
       "        text-align: left;\n",
       "    }\n",
       "\n",
       "    .dataframe tbody tr th {\n",
       "        vertical-align: top;\n",
       "    }\n",
       "</style>\n",
       "<table border=\"1\" class=\"dataframe\">\n",
       "  <thead>\n",
       "    <tr style=\"text-align: right;\">\n",
       "      <th></th>\n",
       "      <th>Proxy IP</th>\n",
       "      <th>Proxy Port</th>\n",
       "      <th>Last Check</th>\n",
       "      <th>Proxy Speed</th>\n",
       "      <th>Uptime</th>\n",
       "      <th>Proxy Country</th>\n",
       "      <th>Anonymity</th>\n",
       "      <th>YouTube</th>\n",
       "    </tr>\n",
       "  </thead>\n",
       "  <tbody>\n",
       "    <tr>\n",
       "      <th>0</th>\n",
       "      <td>176.31.125.111</td>\n",
       "      <td>80.0</td>\n",
       "      <td>1 min ago</td>\n",
       "      <td>NaN</td>\n",
       "      <td>11% (304)</td>\n",
       "      <td>France</td>\n",
       "      <td>Elite</td>\n",
       "      <td>-</td>\n",
       "    </tr>\n",
       "    <tr>\n",
       "      <th>1</th>\n",
       "      <td>81.49.137.110</td>\n",
       "      <td>80.0</td>\n",
       "      <td>2 min ago</td>\n",
       "      <td>NaN</td>\n",
       "      <td>87% (110)</td>\n",
       "      <td>France - Berthecourt</td>\n",
       "      <td>Elite</td>\n",
       "      <td>-</td>\n",
       "    </tr>\n",
       "    <tr>\n",
       "      <th>2</th>\n",
       "      <td>46.105.132.60</td>\n",
       "      <td>8118.0</td>\n",
       "      <td>3 min ago</td>\n",
       "      <td>NaN</td>\n",
       "      <td>8% (268)</td>\n",
       "      <td>France</td>\n",
       "      <td>Elite</td>\n",
       "      <td>1/268</td>\n",
       "    </tr>\n",
       "    <tr>\n",
       "      <th>3</th>\n",
       "      <td>188.165.240.137</td>\n",
       "      <td>3128.0</td>\n",
       "      <td>3 min ago</td>\n",
       "      <td>NaN</td>\n",
       "      <td>39% (192)</td>\n",
       "      <td>France</td>\n",
       "      <td>Transparent</td>\n",
       "      <td>1/192</td>\n",
       "    </tr>\n",
       "    <tr>\n",
       "      <th>4</th>\n",
       "      <td>213.163.181.33</td>\n",
       "      <td>80.0</td>\n",
       "      <td>3 min ago</td>\n",
       "      <td>NaN</td>\n",
       "      <td>18% (266)</td>\n",
       "      <td>France - Hyères</td>\n",
       "      <td>Elite</td>\n",
       "      <td>-</td>\n",
       "    </tr>\n",
       "  </tbody>\n",
       "</table>\n",
       "</div>"
      ],
      "text/plain": [
       "          Proxy IP  Proxy Port Last Check  Proxy Speed     Uptime  \\\n",
       "0   176.31.125.111        80.0  1 min ago          NaN  11% (304)   \n",
       "1    81.49.137.110        80.0  2 min ago          NaN  87% (110)   \n",
       "2    46.105.132.60      8118.0  3 min ago          NaN   8% (268)   \n",
       "3  188.165.240.137      3128.0  3 min ago          NaN  39% (192)   \n",
       "4   213.163.181.33        80.0  3 min ago          NaN  18% (266)   \n",
       "\n",
       "           Proxy Country    Anonymity YouTube  \n",
       "0                 France        Elite       -  \n",
       "1   France - Berthecourt        Elite       -  \n",
       "2                 France        Elite   1/268  \n",
       "3                 France  Transparent   1/192  \n",
       "4        France - Hyères        Elite       -  "
      ]
     },
     "execution_count": 3,
     "metadata": {},
     "output_type": "execute_result"
    }
   ],
   "source": [
    "df.head()"
   ]
  },
  {
   "cell_type": "code",
   "execution_count": 4,
   "metadata": {
    "collapsed": true
   },
   "outputs": [],
   "source": [
    "df = df[df.Anonymity=='Elite']"
   ]
  },
  {
   "cell_type": "code",
   "execution_count": 8,
   "metadata": {},
   "outputs": [],
   "source": [
    "df['address']=df['Proxy IP']+':'+ df['Proxy Port'].astype(int).astype(str)"
   ]
  },
  {
   "cell_type": "code",
   "execution_count": 12,
   "metadata": {},
   "outputs": [
    {
     "data": {
      "text/plain": [
       "['176.31.125.111:80',\n",
       " '81.49.137.110:80',\n",
       " '46.105.132.60:8118',\n",
       " '213.163.181.33:80',\n",
       " '51.255.161.222:80',\n",
       " '88.170.1.143:8118',\n",
       " '134.119.223.242:80',\n",
       " '159.8.114.37:25',\n",
       " '159.8.114.37:8123',\n",
       " '89.145.177.26:8080',\n",
       " '46.218.73.162:80',\n",
       " '163.172.59.200:8080',\n",
       " '137.74.254.198:3128',\n",
       " '178.33.62.155:8118',\n",
       " '62.210.51.150:80',\n",
       " '151.80.37.154:3128',\n",
       " '178.32.213.128:80']"
      ]
     },
     "execution_count": 12,
     "metadata": {},
     "output_type": "execute_result"
    }
   ],
   "source": [
    "df.drop_duplicates(subset='address').address.tolist()"
   ]
  }
 ],
 "metadata": {
  "anaconda-cloud": {},
  "kernelspec": {
   "display_name": "Python [default]",
   "language": "python",
   "name": "python2"
  },
  "language_info": {
   "codemirror_mode": {
    "name": "ipython",
    "version": 2
   },
   "file_extension": ".py",
   "mimetype": "text/x-python",
   "name": "python",
   "nbconvert_exporter": "python",
   "pygments_lexer": "ipython2",
   "version": "2.7.12"
  }
 },
 "nbformat": 4,
 "nbformat_minor": 2
}
