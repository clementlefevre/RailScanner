{
 "cells": [
  {
   "cell_type": "code",
   "execution_count": 46,
   "metadata": {
    "collapsed": true
   },
   "outputs": [],
   "source": [
    "import requests\n",
    "import pprint\n",
    "import json\n",
    "\n",
    "url = \"https://www.voyages-sncf.com/proposition/rest/search-travels/outward\"\n",
    "\n",
    "payload = \"{\\\"origin\\\":\\\"Clermont-Ferrand\\\",\\\"originCode\\\":\\\"FRAFM\\\",\\\"originLocation\\\":{\\\"id\\\":null,\\\"label\\\":null,\\\"longitude\\\":null,\\\"latitude\\\":null,\\\"type\\\":null,\\\"country\\\":null,\\\"stationCode\\\":\\\"FRAFM\\\",\\\"stationLabel\\\":null},\\\"destination\\\":\\\"tours\\\",\\\"destinationCode\\\":null,\\\"destinationLocation\\\":null,\\\"directTravel\\\":false,\\\"asymmetrical\\\":false,\\\"professional\\\":false,\\\"customerAccount\\\":false,\\\"oneWayTravel\\\":true,\\\"departureDate\\\":\\\"2017-08-07T13:00:00\\\",\\\"returnDate\\\":null,\\\"travelClass\\\":\\\"SECOND\\\",\\\"country\\\":\\\"FR\\\",\\\"language\\\":\\\"fr\\\",\\\"busBestPriceOperator\\\":null,\\\"busOnly\\\":false,\\\"passengers\\\":[{\\\"travelerId\\\":null,\\\"profile\\\":\\\"ADULT\\\",\\\"age\\\":26,\\\"birthDate\\\":null,\\\"fidelityCardType\\\":\\\"NONE\\\",\\\"fidelityCardNumber\\\":null,\\\"commercialCardNumber\\\":null,\\\"commercialCardType\\\":\\\"NONE\\\",\\\"promoCode\\\":\\\"\\\",\\\"lastName\\\":null,\\\"firstName\\\":null,\\\"phoneNumer\\\":null,\\\"hanInformation\\\":null}],\\\"animals\\\":[],\\\"bike\\\":\\\"UNFOLDABLE\\\",\\\"withRecliningSeat\\\":false,\\\"physicalSpace\\\":null,\\\"fares\\\":[],\\\"withBestPrices\\\":false,\\\"highlightedTravel\\\":null,\\\"nextOrPrevious\\\":false,\\\"source\\\":\\\"FORM_SUBMIT\\\",\\\"targetPrice\\\":null,\\\"han\\\":false,\\\"$initial\\\":true,\\\"$queryId\\\":\\\"RAEXy\\\"}\""
   ]
  },
  {
   "cell_type": "code",
   "execution_count": 57,
   "metadata": {
    "collapsed": false
   },
   "outputs": [],
   "source": [
    "null='null'\n",
    "false='false'\n",
    "true='true'\n",
    "destination= \"Brive-la-Gaillarde\"\n",
    "destinationCode = \"FRBVE\"\n",
    "\n",
    "payload= {\"origin\":\"Aurillac\",\"originCode\":\"FRAUR\",\"originLocation\":null,\"destination\":\"Clermont-Ferrand\",\"destinationCode\":destinationCode,\"destinationLocation\":null,\"directTravel\":false,\"asymmetrical\":false,\"professional\":false,\"customerAccount\":false,\"oneWayTravel\":true,\"departureDate\":\"2017-08-21T13:00:00\",\"returnDate\":null,\"travelClass\":\"SECOND\",\"country\":\"FR\",\"language\":\"fr\",\"busBestPriceOperator\":null,\"busOnly\":false,\"passengers\":[{\"travelerId\":null,\"profile\":\"ADULT\",\"age\":26,\"birthDate\":null,\"fidelityCardType\":\"NONE\",\"fidelityCardNumber\":null,\"commercialCardNumber\":null,\"commercialCardType\":\"NONE\",\"promoCode\":\"\",\"lastName\":null,\"firstName\":null,\"phoneNumer\":null,\"hanInformation\":null}],\"animals\":[],\"bike\":\"NONE\",\"withRecliningSeat\":false,\"physicalSpace\":null,\"fares\":[],\"withBestPrices\":false,\"highlightedTravel\":null,\"nextOrPrevious\":false,\"source\":\"FORM_SUBMIT\",\"targetPrice\":null,\"han\":false,\"$initial\":true,\"$queryId\":\"SRlEN\"}\n",
    "\n",
    "payload = json.dumps(payload)\n",
    "payload = payload.replace(\"\\\"null\\\"\",\"null\").replace(\"\\\"false\\\"\",\"false\").replace(\"\\\"true\\\"\",\"true\")"
   ]
  },
  {
   "cell_type": "code",
   "execution_count": 55,
   "metadata": {
    "collapsed": false
   },
   "outputs": [
    {
     "data": {
      "text/plain": [
       "'{\"origin\": \"Aurillac\", \"originLocation\": null, \"nextOrPrevious\": false, \"destinationCode\": \"FRCFE\", \"$queryId\": \"SRlEN\", \"busOnly\": false, \"customerAccount\": false, \"$initial\": true, \"asymmetrical\": false, \"departureDate\": \"2017-08-21T13:00:00\", \"withBestPrices\": false, \"directTravel\": false, \"fares\": [], \"targetPrice\": null, \"passengers\": [{\"travelerId\": null, \"profile\": \"ADULT\", \"phoneNumer\": null, \"fidelityCardType\": \"NONE\", \"birthDate\": null, \"fidelityCardNumber\": null, \"commercialCardType\": \"NONE\", \"firstName\": null, \"commercialCardNumber\": null, \"lastName\": null, \"age\": 26, \"promoCode\": \"\", \"hanInformation\": null}], \"animals\": [], \"han\": false, \"language\": \"fr\", \"source\": \"FORM_SUBMIT\", \"country\": \"FR\", \"destination\": \"Clermont-Ferrand\", \"returnDate\": null, \"destinationLocation\": null, \"busBestPriceOperator\": null, \"oneWayTravel\": true, \"bike\": \"NONE\", \"highlightedTravel\": null, \"withRecliningSeat\": false, \"professional\": false, \"physicalSpace\": null, \"travelClass\": \"SECOND\", \"originCode\": \"FRAUR\"}'"
      ]
     },
     "execution_count": 55,
     "metadata": {},
     "output_type": "execute_result"
    }
   ],
   "source": [
    "payload"
   ]
  },
  {
   "cell_type": "code",
   "execution_count": 58,
   "metadata": {
    "collapsed": false
   },
   "outputs": [
    {
     "name": "stdout",
     "output_type": "stream",
     "text": [
      "{\"status\":\"SUCCESS\",\"results\":[{\"id\":\"8a63c8fa-7c59-46a6-a3a6-40e75e6646f7\",\"journeyId\":\"1\",\"transactionId\":0,\"originCode\":\"FRAUR\",\"origin\":\"AURILLAC\",\"departureDate\":\"2017-08-21T12:55:00\",\"destinationCode\":\"FRBVE\",\"destination\":\"BRIVE LA GAILLARDE\",\"arrivalDate\":\"2017-08-21T16:43:00\",\"duration\":13680000,\"segments\":[{\"originCode\":\"FRAUR\",\"origin\":\"AURILLAC\",\"departureDate\":\"2017-08-21T12:55:00\",\"originDetail\":{\"cityCode\":null,\"cityLabel\":null,\"cityLabelFr\":null,\"stationCode\":\"FRAUR\",\"stationLabel\":\"AURILLAC\",\"stationLabelFr\":\"AURILLAC\",\"zipCode\":\"15\",\"outsideFrance\":false},\"destinationCode\":\"FRFIG\",\"destination\":\"FIGEAC GARE\",\"arrivalDate\":\"2017-08-21T14:03:00\",\"destinationDetail\":{\"cityCode\":\"FRFHV\",\"cityLabel\":\"FIGEAC\",\"cityLabelFr\":\"FIGEAC\",\"stationCode\":\"FRFIG\",\"stationLabel\":\"FIGEAC GARE\",\"stationLabelFr\":\"FIGEAC GARE\",\"zipCode\":\"46\",\"outsideFrance\":false},\"duration\":4080000,\"trainType\":\"TER\",\"trainPeriod\":\"BLUE\",\"trainNumber\":\"71209\",\"transporter\":\"TER\",\"inventory\":\"wdi\",\"bookingType\":\"RI\",\"carrierCode\":\"SN\",\"ticketProvider\":\"RR\",\"id\":1,\"onboardServices\":[\"VELO_GRATUIT\"],\"vehicleType\":\"TRAIN\",\"availablePhysicalSpaces\":[\"B\"],\"hasPerturbations\":false,\"realTimeInformations\":null,\"baseClasses\":null,\"hostIndicator\":null,\"services\":[],\"boundaryPoint\":null,\"fullIndicator\":null,\"tctCodeList\":[],\"trainEquipment\":null,\"showRating\":false,\"transporterRating\":null,\"seatmapAvailable\":false},{\"originCode\":\"FRFIG\",\"origin\":\"FIGEAC GARE\",\"departureDate\":\"2017-08-21T15:30:00\",\"originDetail\":{\"cityCode\":\"FRFHV\",\"cityLabel\":\"FIGEAC\",\"cityLabelFr\":\"FIGEAC\",\"stationCode\":\"FRFIG\",\"stationLabel\":\"FIGEAC GARE\",\"stationLabelFr\":\"FIGEAC GARE\",\"zipCode\":\"46\",\"outsideFrance\":false},\"destinationCode\":\"FRBVE\",\"destination\":\"BRIVE LA GAILLARDE\",\"arrivalDate\":\"2017-08-21T16:43:00\",\"destinationDetail\":{\"cityCode\":null,\"cityLabel\":null,\"cityLabelFr\":null,\"stationCode\":\"FRBVE\",\"stationLabel\":\"BRIVE LA GAILLARDE\",\"stationLabelFr\":\"BRIVE LA GAILLARDE\",\"zipCode\":\"19\",\"outsideFrance\":false},\"duration\":4380000,\"trainType\":\"TER\",\"trainPeriod\":\"BLUE\",\"trainNumber\":\"70258\",\"transporter\":\"TER\",\"inventory\":\"wdi\",\"bookingType\":\"RI\",\"carrierCode\":\"SN\",\"ticketProvider\":\"RR\",\"id\":2,\"onboardServices\":[\"VELO_GRATUIT\"],\"vehicleType\":\"TRAIN\",\"availablePhysicalSpaces\":[\"B\"],\"hasPerturbations\":false,\"realTimeInformations\":null,\"baseClasses\":null,\"hostIndicator\":null,\"services\":[],\"boundaryPoint\":null,\"fullIndicator\":null,\"tctCodeList\":[],\"trainEquipment\":null,\"showRating\":false,\"transporterRating\":null,\"seatmapAvailable\":false}],\"priceProposals\":{\"FLEX\":{\"id\":\"1\",\"amount\":25.7,\"appliedDiscount\":0.0,\"currency\":\"EUR\",\"type\":\"FLEX\",\"pushInformation\":{\"pushType\":null,\"pushPrice\":0.0},\"passengerDetails\":[{\"clientId\":\"0\",\"travelerId\":null,\"price\":25.7,\"age\":\"ADULT\",\"fidelityCard\":\"NONE\",\"fidelityPoints\":null,\"globalPassenger\":false,\"promoCodeType\":null,\"fareInformations\":[{\"fareName\":\"Tarif normal\",\"fareCondition\":\"Avec réservation : billet échangeable et remboursable sans frais avant le départ. Après départ, billet échangeable et remboursable avec 50% de retenue.  Sans réservation : pendant sa validité, billet échangeable sans frais pour obtenir un billet avec une réservation, une réduction moins importante ou un surclassement. Dans les autres cas d'échange et en cas de remboursement une retenue de 10% sera appliquée jusqu'à la fin de validité.  Pour le service e-billet disponible : confirmation e-billet à imprimer, sans compostage, utilisable pour un voyage uniquement dans le train et à la date indiqués. E-billet échangeable et remboursable sans frais avant départ. Après départ, e-billet non échangeable et non remboursable.\",\"fareCode\":\"PT00\",\"fareSpecificRule\":null,\"fareSequence\":null,\"cosLevel\":null,\"returnMandatory\":false,\"passengerType\":\"PT00AD\",\"classOfService\":\"B\",\"segmentId\":1,\"passengerClientId\":\"0\",\"promoCodeApplied\":false,\"fixedPriceCuiQuotation\":false,\"fakeFare\":false},{\"fareName\":\"Tarif normal\",\"fareCondition\":\"Avec réservation : billet échangeable et remboursable sans frais avant le départ. Après départ, billet échangeable et remboursable avec 50% de retenue.  Sans réservation : pendant sa validité, billet échangeable sans frais pour obtenir un billet avec une réservation, une réduction moins importante ou un surclassement. Dans les autres cas d'échange et en cas de remboursement une retenue de 10% sera appliquée jusqu'à la fin de validité.  Pour le service e-billet disponible : confirmation e-billet à imprimer, sans compostage, utilisable pour un voyage uniquement dans le train et à la date indiqués. E-billet échangeable et remboursable sans frais avant départ. Après départ, e-billet non échangeable et non remboursable.\",\"fareCode\":\"PT00\",\"fareSpecificRule\":null,\"fareSequence\":null,\"cosLevel\":null,\"returnMandatory\":false,\"passengerType\":\"PT00AD\",\"classOfService\":\"B\",\"segmentId\":2,\"passengerClientId\":\"0\",\"promoCodeApplied\":false,\"fixedPriceCuiQuotation\":false,\"fakeFare\":false}],\"passengerType\":\"HUMAN\",\"encartedPrems\":false,\"specificSeatRequired\":true,\"promoCodeApplied\":false}],\"animalDetails\":[],\"segmentDetails\":[{\"inventory\":\"wdi\",\"travelClass\":\"SECOND\",\"fareSegmentation\":null,\"physicalSpace\":\"B\",\"overbooked\":false,\"spaceComfortMandatory\":false,\"flexibility\":3,\"bikeDetails\":null,\"placementOptions\":{\"segmentId\":1,\"seats\":[],\"decks\":[],\"comfortSpaces\":[],\"berthLevels\":[],\"facingForwardAllowed\":false,\"closeToAvailable\":false,\"openPlacementAvailable\":false,\"womenOnlyBerthAvailable\":false,\"hasOnlyCloseToAvailable\":false,\"hasChoices\":false,\"hasOnlyOpenPlacementAndCloseToAvailable\":false}},{\"inventory\":\"wdi\",\"travelClass\":\"SECOND\",\"fareSegmentation\":null,\"physicalSpace\":\"B\",\"overbooked\":false,\"spaceComfortMandatory\":false,\"flexibility\":3,\"bikeDetails\":null,\"placementOptions\":{\"segmentId\":2,\"seats\":[],\"decks\":[],\"comfortSpaces\":[],\"berthLevels\":[],\"facingForwardAllowed\":false,\"closeToAvailable\":false,\"openPlacementAvailable\":false,\"womenOnlyBerthAvailable\":false,\"hasOnlyCloseToAvailable\":false,\"hasChoices\":false,\"hasOnlyOpenPlacementAndCloseToAvailable\":false}}],\"remainingSeat\":null,\"bookingFee\":null,\"eligibleForCancellationInsurance\":false,\"returnMandatory\":false,\"spaceComfortMandatory\":false,\"amountWithMandatorySpaceComfort\":25.7,\"flexibleProServices\":false,\"referenceAmount\":0.0,\"promo\":false,\"containsTgvPopFare\":false,\"hasBicycle\":false,\"detailMessages\":[],\"flags\":[],\"promoCodeCount\":{},\"hasPlacementOptions\":false}},\"unsellableReason\":\"NONE\",\"pushProposal\":false,\"pushProposalType\":null,\"pushPrice\":null,\"hasPerturbations\":false,\"realTimeInformations\":null,\"transporters\":[\"TER\",\"TER\"],\"containsTgvPopFares\":false},{\"id\":\"ae42be30-6ac7-4233-a632-38e7e5c9ba78\",\"journeyId\":\"2\",\"transactionId\":0,\"originCode\":\"FRAUR\",\"origin\":\"AURILLAC\",\"departureDate\":\"2017-08-21T15:55:00\",\"destinationCode\":\"FRBVE\",\"destination\":\"BRIVE LA GAILLARDE\",\"arrivalDate\":\"2017-08-21T17:44:00\",\"duration\":6540000,\"segments\":[{\"originCode\":\"FRAUR\",\"origin\":\"AURILLAC\",\"departureDate\":\"2017-08-21T15:55:00\",\"originDetail\":{\"cityCode\":null,\"cityLabel\":null,\"cityLabelFr\":null,\"stationCode\":\"FRAUR\",\"stationLabel\":\"AURILLAC\",\"stationLabelFr\":\"AURILLAC\",\"zipCode\":\"15\",\"outsideFrance\":false},\"destinationCode\":\"FRBVE\",\"destination\":\"BRIVE LA GAILLARDE\",\"arrivalDate\":\"2017-08-21T17:44:00\",\"destinationDetail\":{\"cityCode\":null,\"cityLabel\":null,\"cityLabelFr\":null,\"stationCode\":\"FRBVE\",\"stationLabel\":\"BRIVE LA GAILLARDE\",\"stationLabelFr\":\"BRIVE LA GAILLARDE\",\"zipCode\":\"19\",\"outsideFrance\":false},\"duration\":6540000,\"trainType\":\"TER\",\"trainPeriod\":\"BLUE\",\"trainNumber\":\"873917\",\"transporter\":\"TER\",\"inventory\":\"pao\",\"bookingType\":\"RI\",\"carrierCode\":\"SN\",\"ticketProvider\":\"ETOIL\",\"id\":3,\"onboardServices\":[\"VELO_GRATUIT\"],\"vehicleType\":\"TRAIN\",\"availablePhysicalSpaces\":[\"B\"],\"hasPerturbations\":false,\"realTimeInformations\":null,\"baseClasses\":null,\"hostIndicator\":null,\"services\":[],\"boundaryPoint\":null,\"fullIndicator\":null,\"tctCodeList\":[],\"trainEquipment\":null,\"showRating\":false,\"transporterRating\":null,\"seatmapAvailable\":false}],\"priceProposals\":{\"NOFLEX\":{\"id\":\"2\",\"amount\":18.1,\"appliedDiscount\":0.0,\"currency\":\"EUR\",\"type\":\"NOFLEX\",\"pushInformation\":{\"pushType\":null,\"pushPrice\":0.0},\"passengerDetails\":[{\"clientId\":\"0\",\"travelerId\":null,\"price\":18.1,\"age\":\"ADULT\",\"fidelityCard\":\"NONE\",\"fidelityPoints\":null,\"globalPassenger\":false,\"promoCodeType\":null,\"fareInformations\":[{\"fareName\":\"Tarif Normal\",\"fareCondition\":\"Valable sur TER uniquement\\npour la date de voyage choisie.\\nBillet non-échangeable et non-remboursable.\",\"fareCode\":\"ODS_AUV_PT00_BILLET_TARIF_NORMAL_WEB\",\"fareSpecificRule\":\"5ESL0IWJgbVqZlM0E9bCf3QhTnovUEjenuqo7p4wdF1BlP\",\"fareSequence\":null,\"cosLevel\":\"d828bb9e-6b5d-4dbe-99ae-dc3d04fac002-1\",\"returnMandatory\":false,\"passengerType\":\"ADT\",\"classOfService\":\"B \",\"segmentId\":3,\"passengerClientId\":\"0\",\"promoCodeApplied\":false,\"fixedPriceCuiQuotation\":false,\"fakeFare\":false}],\"passengerType\":\"HUMAN\",\"encartedPrems\":false,\"specificSeatRequired\":true,\"promoCodeApplied\":false}],\"animalDetails\":[],\"segmentDetails\":[{\"inventory\":\"pao\",\"travelClass\":\"SECOND\",\"fareSegmentation\":null,\"physicalSpace\":\"B\",\"overbooked\":false,\"spaceComfortMandatory\":false,\"flexibility\":1,\"bikeDetails\":null,\"placementOptions\":{\"segmentId\":3,\"seats\":[],\"decks\":[],\"comfortSpaces\":[],\"berthLevels\":[],\"facingForwardAllowed\":false,\"closeToAvailable\":false,\"openPlacementAvailable\":false,\"womenOnlyBerthAvailable\":false,\"hasOnlyCloseToAvailable\":false,\"hasChoices\":false,\"hasOnlyOpenPlacementAndCloseToAvailable\":false}}],\"remainingSeat\":null,\"bookingFee\":null,\"eligibleForCancellationInsurance\":false,\"returnMandatory\":false,\"spaceComfortMandatory\":false,\"amountWithMandatorySpaceComfort\":18.1,\"flexibleProServices\":false,\"referenceAmount\":0.0,\"promo\":false,\"containsTgvPopFare\":false,\"hasBicycle\":false,\"detailMessages\":[],\"flags\":[],\"promoCodeCount\":{},\"hasPlacementOptions\":false}},\"unsellableReason\":\"NONE\",\"pushProposal\":false,\"pushProposalType\":null,\"pushPrice\":null,\"hasPerturbations\":false,\"realTimeInformations\":null,\"transporters\":[\"TER\"],\"containsTgvPopFares\":false},{\"id\":\"530081f5-08a9-4346-bbef-cd71e76b2e0f\",\"journeyId\":\"3\",\"transactionId\":0,\"originCode\":\"FRAUR\",\"origin\":\"AURILLAC\",\"departureDate\":\"2017-08-21T17:12:00\",\"destinationCode\":\"FRBVE\",\"destination\":\"BRIVE LA GAILLARDE\",\"arrivalDate\":\"2017-08-21T19:00:00\",\"duration\":6480000,\"segments\":[{\"originCode\":\"FRAUR\",\"origin\":\"AURILLAC\",\"departureDate\":\"2017-08-21T17:12:00\",\"originDetail\":{\"cityCode\":null,\"cityLabel\":null,\"cityLabelFr\":null,\"stationCode\":\"FRAUR\",\"stationLabel\":\"AURILLAC\",\"stationLabelFr\":\"AURILLAC\",\"zipCode\":\"15\",\"outsideFrance\":false},\"destinationCode\":\"FRBVE\",\"destination\":\"BRIVE LA GAILLARDE\",\"arrivalDate\":\"2017-08-21T19:00:00\",\"destinationDetail\":{\"cityCode\":null,\"cityLabel\":null,\"cityLabelFr\":null,\"stationCode\":\"FRBVE\",\"stationLabel\":\"BRIVE LA GAILLARDE\",\"stationLabelFr\":\"BRIVE LA GAILLARDE\",\"zipCode\":\"19\",\"outsideFrance\":false},\"duration\":6480000,\"trainType\":\"TER\",\"trainPeriod\":\"WHITE\",\"trainNumber\":\"873921\",\"transporter\":\"TER\",\"inventory\":\"pao\",\"bookingType\":\"RI\",\"carrierCode\":\"SN\",\"ticketProvider\":\"ETOIL\",\"id\":4,\"onboardServices\":[\"VELO_GRATUIT\"],\"vehicleType\":\"TRAIN\",\"availablePhysicalSpaces\":[\"B\"],\"hasPerturbations\":false,\"realTimeInformations\":null,\"baseClasses\":null,\"hostIndicator\":null,\"services\":[],\"boundaryPoint\":null,\"fullIndicator\":null,\"tctCodeList\":[],\"trainEquipment\":null,\"showRating\":false,\"transporterRating\":null,\"seatmapAvailable\":false}],\"priceProposals\":{\"NOFLEX\":{\"id\":\"3\",\"amount\":18.1,\"appliedDiscount\":0.0,\"currency\":\"EUR\",\"type\":\"NOFLEX\",\"pushInformation\":{\"pushType\":null,\"pushPrice\":0.0},\"passengerDetails\":[{\"clientId\":\"0\",\"travelerId\":null,\"price\":18.1,\"age\":\"ADULT\",\"fidelityCard\":\"NONE\",\"fidelityPoints\":null,\"globalPassenger\":false,\"promoCodeType\":null,\"fareInformations\":[{\"fareName\":\"Tarif Normal\",\"fareCondition\":\"Valable sur TER uniquement\\npour la date de voyage choisie.\\nBillet non-échangeable et non-remboursable.\",\"fareCode\":\"ODS_AUV_PT00_BILLET_TARIF_NORMAL_WEB\",\"fareSpecificRule\":\"5ESL0IWJgbVqZlM0E9bCf3QhTnovUEjenuqo7p4wdF1BlP\",\"fareSequence\":null,\"cosLevel\":\"d828bb9e-6b5d-4dbe-99ae-dc3d04fac002-2\",\"returnMandatory\":false,\"passengerType\":\"ADT\",\"classOfService\":\"B \",\"segmentId\":4,\"passengerClientId\":\"0\",\"promoCodeApplied\":false,\"fixedPriceCuiQuotation\":false,\"fakeFare\":false}],\"passengerType\":\"HUMAN\",\"encartedPrems\":false,\"specificSeatRequired\":true,\"promoCodeApplied\":false}],\"animalDetails\":[],\"segmentDetails\":[{\"inventory\":\"pao\",\"travelClass\":\"SECOND\",\"fareSegmentation\":null,\"physicalSpace\":\"B\",\"overbooked\":false,\"spaceComfortMandatory\":false,\"flexibility\":1,\"bikeDetails\":null,\"placementOptions\":{\"segmentId\":4,\"seats\":[],\"decks\":[],\"comfortSpaces\":[],\"berthLevels\":[],\"facingForwardAllowed\":false,\"closeToAvailable\":false,\"openPlacementAvailable\":false,\"womenOnlyBerthAvailable\":false,\"hasOnlyCloseToAvailable\":false,\"hasChoices\":false,\"hasOnlyOpenPlacementAndCloseToAvailable\":false}}],\"remainingSeat\":null,\"bookingFee\":null,\"eligibleForCancellationInsurance\":false,\"returnMandatory\":false,\"spaceComfortMandatory\":false,\"amountWithMandatorySpaceComfort\":18.1,\"flexibleProServices\":false,\"referenceAmount\":0.0,\"promo\":false,\"containsTgvPopFare\":false,\"hasBicycle\":false,\"detailMessages\":[],\"flags\":[],\"promoCodeCount\":{},\"hasPlacementOptions\":false}},\"unsellableReason\":\"NONE\",\"pushProposal\":false,\"pushProposalType\":null,\"pushPrice\":null,\"hasPerturbations\":false,\"realTimeInformations\":null,\"transporters\":[\"TER\"],\"containsTgvPopFares\":false}],\"validationErrors\":[],\"technicalErrors\":[],\"warnings\":[],\"calendarAccess\":{\"enabled\":false,\"url\":null,\"parameters\":null},\"itineraryDetails\":{\"origin\":{\"cityCode\":null,\"cityLabel\":null,\"cityLabelFr\":null,\"stationCode\":\"FRAUR\",\"stationLabel\":\"AURILLAC\",\"stationLabelFr\":\"AURILLAC\",\"zipCode\":\"15\",\"outsideFrance\":false},\"destination\":{\"cityCode\":null,\"cityLabel\":null,\"cityLabelFr\":null,\"stationCode\":\"FRBVE\",\"stationLabel\":\"BRIVE LA GAILLARDE\",\"stationLabelFr\":\"BRIVE LA GAILLARDE\",\"zipCode\":\"19\",\"outsideFrance\":false},\"international\":false},\"clientInformations\":{\"correlationId\":null,\"requestId\":null},\"containsFirstTrainOfDay\":false,\"containsLastTrainOfDay\":true,\"individualAdvantageCodeWarningsEnabled\":false,\"queryValidForSeatmap\":true,\"busInfo\":null,\"promoCodeTypes\":{},\"international\":false,\"success\":true}\n"
     ]
    }
   ],
   "source": [
    "headers = {\n",
    "    'accept': \"application/json, text/plain, */*\",\n",
    "    'accept-encoding': \"gzip, deflate, br\",\n",
    "    'accept-language': \"en-US,en;q=0.8,de;q=0.6,fr;q=0.4\",\n",
    "    'connection': \"keep-alive\",\n",
    "    'content-length': \"1049\",\n",
    "    'content-type': \"application/json;charset=UTF-8\",\n",
    "    'cookie': \"x-vsc-correlation-id=2ff51743-e061-4ffd-a878-950a1d8f61f0; x-vsc-app-version-3000=ACTIVATED; VSL_city=SDN_PRD7; _cs_v=0; dydu.lastvisitfor=IjIwMTctMDgtMDZUMTg6MDk6NDUuMzYwWiI%3D; AMCVS_F3F4148954F730780A4C98BC%40AdobeOrg=1; vsct_policy_compliance=1; i18next=fr_FR; HYPDEC=; ab_test_id=opt1_ebillet_v1; s_vi=[CS]v1|2CC3AF6B053125EB-60000103E00001B1[CE]; SESS5058f1af8388633f609cadb75a75dc9d=h0mi5e14q6476t7lcahlblf376; VSCCACHE=vslpibp7var; CSCSESSIONENG=csctrep11eng; CMSSESSION=vslcalp22cms; CCLSESSION=cclagdp71; s_cp_persist=T_LSP_53074FACD8C84; s_cpm=%5B%5B%27T_LSP_53074FACD8C84%27%2C%271502047665804%27%5D%5D; VSASESSION=vsaliep61; va_ic=42961f8252752031fbb7b1bd468b8a36a84d5d7b%3A1502048993390; x-vsc-correlation-id=2ff51743-e061-4ffd-a878-950a1d8f61f0; _cs_cvars=%7B%221%22%3A%5B%22pageType%22%2C%22web%2Ftrain%2Fapresvente%2Fmonvoyage%22%5D%2C%222%22%3A%5B%22is_connected%22%2C%220%22%5D%2C%223%22%3A%5B%22langue%22%2C%22fr%22%5D%2C%224%22%3A%5B%22pays%22%2C%22fr%22%5D%7D; ck_chStak=%5B%5B%27Liens%2520Sponsos%2520Train%2520Hors%2520Marque%27%2C%271502046580912%27%5D%2C%5B%27SEO%2520Inconnu%27%2C%271502046587258%27%5D%2C%5B%27Liens%2520Sponsos%2520Train%2520Hors%2520Marque%27%2C%271502047665806%27%5D%2C%5B%27Sites%2520Groupe%27%2C%271502047696737%27%5D%2C%5B%27SEO%2520Inconnu%27%2C%271502050593668%27%5D%5D; _cs_id=70f51450-2d6c-ac67-af60-5d46a7b3a891.1502043034.3.1502050751.1502050738.1.1536207034643; AGGREGSESSION=vslnicp71agr; _ga=GA1.2.1839451703.1502048573; _gid=GA1.2.2057658956.1502048573; AMCV_F3F4148954F730780A4C98BC%40AdobeOrg=2096510701%7CMCIDTS%7C17385%7CMCMID%7C21295866883441942143768664583583281125%7CMCAAMLH-1502647786%7C6%7CMCAAMB-1502706101%7CNRX38WO0n5BH8Th-nqAG_A%7CMCOPTOUT-1502108501s%7CNONE%7CMCAID%7CNONE%7CMCSYNCSOP%7C411-17392%7CvVersion%7C2.0.0; c_m=www.google.frNatural%20Search; VSLPRD7Session=583690866DF3538B87D63076311CE13D; VSCSESSION=vslcamp71vsl; SCDEC=; has_js=1; dydu.sidebar=eyJ0aXRsZSI6IiIsImNvbnRlbnQiOiIiLCJ1cmwiOiIiLCJjb250ZW50U3R5bGUiOnt9LCJmcmFtZVN0eWxlIjp7fSwiY29udGFpbmVyU3R5bGUiOnt9LCJzaG93IjpmYWxzZSwiYm90dG9tIjowLCJyaWdodCI6MTAsImlnbm9yZUNvbmZpZ3VyZWREaW1lbnNpb25zIjpmYWxzZX0%3D; ABTasty=uid%3D17080620093325122%26fst%3D1502042973634%26pst%3D1502090898175%26cst%3D1502101284121%26ns%3D3%26pvt%3D57%26pvis%3D4%26th%3D135889.189547.226.10.3.1.1502042973643.1502101353128.1_140811.195995.3.0.3.0.1502043934164.1502044042515.1_149835.207779.2.0.3.0.1502043858174.1502043905048.1_181545.250357.2.0.3.0.1502043857885.1502043904629.1_192372.264031.1.0.3.0.1502044127227.1502044127227.1_198984.0.60.1.3.0.1502043006878.1502101351329.1_199746.274239.4.1.3.0.1502048569751.1502101284133.1_212381.290359.139.3.3.0.1502046575194.1502101351335.1; dydu.session=IntcImNsaWVudElEXCI6XCJ2VWV4am5ITTA5TzAwQzJcIixcImNvbnRleHRzXCI6W10sXCJjb250YWN0c1wiOltdLFwic3RhdGVzXCI6e1widGVhc2VyXCI6ZmFsc2UsXCJkaWFsb2dcIjpmYWxzZSxcInNpZGViYXJcIjpmYWxzZX19Ig%3D%3D; dydu.teaser=eyJ0eXBlIjoiY2xhc3NpYyIsInRpbWVvdXQiOi0xLCJhY3Rpb24iOm51bGwsInJld29yZCI6bnVsbCwic2hvdyI6ZmFsc2V9; dydu.popin=eyJib3R0b20iOjAsInJpZ2h0IjoxMCwic2hvdyI6ZmFsc2V9; dydu.push=eyJyX3BhZ2VzVmlld2VkIjp7ImNvdW50Ijo0OH0sInJfbGFzdHBhZ2Vsb2FkZWQiOnt9fQ%3D%3D; ABTastySession=referrer%3Dhttps%3A//www.google.fr/__landingPage%3Dhttps%3A//www.voyages-sncf.com/__referrerSent%3Dtrue; ry_ry-g6d9xe0l_realytics=eyJpZCI6InJ5X0U5M0Q4RDJCLUFCNkEtNDcwNi1CMjNGLTUxMjAzMEJFREFDNiIsImNpZCI6bnVsbH0%3D; ry_ry-g6d9xe0l_so_realytics=eyJpZCI6InJ5X0U5M0Q4RDJCLUFCNkEtNDcwNi1CMjNGLTUxMjAzMEJFREFDNiIsImNpZCI6bnVsbCwib3JpZ2luIjpmYWxzZSwicmVmIjpudWxsLCJjb250IjpudWxsfQ%3D%3D; _cs_ex=1; RT=\\\"\\\"; va_prov=VSD; VSCPRDDEC=requestedDate%3D1502103600000%7C; va_first_visit=1; va_iv=7ca87ccb-3bd9-4a00-a7a9-869beb3d6809; va_s_getNewRepeat=1502101357324-Repeat; s_cc=true; country_code=FR; ck_dir=1; s_sq=voyagessncfcomprod%3D%2526c.%2526a.%2526activitymap.%2526page%253DPropositionAllerNew%2526link%253DRECHERCHER%2526region%253Dmain-form-panel%2526pageIDType%253D1%2526.activitymap%2526.a%2526.c%2526pid%253DPropositionAllerNew%2526pidt%253D1%2526oid%253DRECHERCHER%2526oidt%253D3%2526ot%253DSUBMIT; rfrr=PropositionAllerNew_body_FORM-; merchTrck=%23\",\n",
    "    'host': \"www.voyages-sncf.com\",\n",
    "    'origin': \"https://www.voyages-sncf.com\",\n",
    "    'referer': \"https://www.voyages-sncf.com/proposition?clientId=b38b61a3-9448-4866-b485-1d47455ca7c5&language=fr&country=FR\",\n",
    "    'user-agent': \"Mozilla/5.0 (X11; Linux x86_64) AppleWebKit/537.36 (KHTML, like Gecko) Chrome/60.0.3112.90 Safari/537.36\",\n",
    "    'x-vsd-locale': \"fr_FR\",\n",
    "    'x-vsd-smart-guy-guard': \"DqjrxvdlqN3:3;534:T4QQRZD\\\\\",\n",
    "    'cache-control': \"no-cache\",\n",
    "    'postman-token': \"9bb96d1d-ddaf-04c8-b47d-e55a2a1f33ee\"\n",
    "    }\n",
    "\n",
    "\n",
    "response = requests.request(\"POST\", url, data=payload, headers=headers)\n",
    "\n",
    "\n",
    "print(response.text)"
   ]
  },
  {
   "cell_type": "code",
   "execution_count": 9,
   "metadata": {
    "collapsed": true
   },
   "outputs": [],
   "source": [
    "from navitia_client import Client"
   ]
  },
  {
   "cell_type": "code",
   "execution_count": 32,
   "metadata": {
    "collapsed": false
   },
   "outputs": [
    {
     "name": "stdout",
     "output_type": "stream",
     "text": [
      "Import on url coverage/sncf/stop_areas/stop_area:OIF:SA:8768138/places_nearby \n",
      "https://api.sncf.com/v1/coverage/sncf/stop_areas/stop_area:OIF:SA:8768138/places_nearby\n",
      "6911aa6b-470c-4555-834e-9e4d831e038b\n",
      "\n",
      "extra_params  None\n",
      "response :\n",
      "\n",
      "<Response [200]>\n",
      "---------------\n",
      "u'{\"disruptions\":[],\"links\":[],\"error\":{\"message\":\"The entry point: stop_area:OIF:SA:8768138 is not valid\",\"id\":\"bad_format\"}}'\n"
     ]
    }
   ],
   "source": [
    "client = Client(core_url='https://api.sncf.com/v1/',user='6911aa6b-470c-4555-834e-9e4d831e038b')\n",
    "client.set_region(\"sncf\")\n",
    "# Compute invert geocoding request:\n",
    "# Compute a custom request (raw_url, and extra_params):\n",
    "raw_url = 'coverage/sncf/stop_areas/stop_area:OIF:SA:8768138/places_nearby'\n",
    "response3 = client.raw(url=raw_url, verbose=True)\n",
    "pprint.pprint(response3.text)"
   ]
  },
  {
   "cell_type": "code",
   "execution_count": 26,
   "metadata": {
    "collapsed": false
   },
   "outputs": [
    {
     "name": "stdout",
     "output_type": "stream",
     "text": [
      "https://api.sncf.com/v1/coverage/sncf/stop_points/stop_point:OIF:SP:10:1145/route_schedules\n",
      "6911aa6b-470c-4555-834e-9e4d831e038b\n",
      "\n",
      "extra_params  None\n",
      "response :\n",
      "\n",
      "<Response [404]>\n",
      "---------------\n",
      "WARNING: response status_code is 404\n",
      "Import on url coverage/sncf/journeys \n",
      "https://api.sncf.com/v1/coverage/sncf/journeys\n",
      "6911aa6b-470c-4555-834e-9e4d831e038b\n",
      "\n",
      "extra_params  {'datetime_represents': None, 'from': 'stop_area:OIF:SA:8768138', 'data_freshness': None}\n",
      "response :\n",
      "\n",
      "<Response [404]>\n",
      "---------------\n",
      "WARNING: response status_code is 404\n",
      "Import on url coverage/sncf/stop_points/stop_point:OIF:SP:10:1145/route_schedules \n",
      "https://api.sncf.com/v1/coverage/sncf/stop_points/stop_point:OIF:SP:10:1145/route_schedules\n",
      "6911aa6b-470c-4555-834e-9e4d831e038b\n",
      "\n",
      "extra_params  {'data_freshness': None}\n",
      "response :\n",
      "\n",
      "<Response [404]>\n",
      "---------------\n",
      "WARNING: response status_code is 404\n",
      "Import on url coverage/fr-idf/stop_areas/stop_area:OIF:SA:8768138/places_nearby \n",
      "https://api.sncf.com/v1/coverage/fr-idf/stop_areas/stop_area:OIF:SA:8768138/places_nearby\n",
      "6911aa6b-470c-4555-834e-9e4d831e038b\n",
      "\n",
      "extra_params  None\n",
      "response :\n",
      "\n",
      "<Response [403]>\n",
      "---------------\n",
      "WARNING: response status_code is 403\n",
      "Import on page 0 \n",
      "Import on url coverage/fr-idf/lines \n",
      "https://api.sncf.com/v1/coverage/fr-idf/lines\n",
      "6911aa6b-470c-4555-834e-9e4d831e038b\n",
      "\n",
      "extra_params  {'count': 100, 'start_page': 0}\n",
      "response :\n",
      "\n",
      "<Response [403]>\n",
      "---------------\n",
      "WARNING: response status_code is 403\n",
      "WARNING: not able to extract pagination out of first request.\n",
      "Import on url coords/2.333333;48.866667 \n",
      "https://api.sncf.com/v1/coords/2.333333;48.866667\n",
      "6911aa6b-470c-4555-834e-9e4d831e038b\n",
      "\n",
      "extra_params  {}\n",
      "response :\n",
      "\n",
      "<Response [403]>\n",
      "---------------\n",
      "WARNING: response status_code is 403\n",
      "Import on url coverage/sncf/networks \n",
      "https://api.sncf.com/v1/coverage/sncf/networks\n",
      "6911aa6b-470c-4555-834e-9e4d831e038b\n",
      "\n",
      "extra_params  {}\n",
      "response :\n",
      "\n",
      "<Response [200]>\n",
      "---------------\n",
      "Import on page 0 \n",
      "Import on url coverage/sncf/lines \n",
      "https://api.sncf.com/v1/coverage/sncf/lines\n",
      "6911aa6b-470c-4555-834e-9e4d831e038b\n",
      "\n",
      "extra_params  {'count': 50, 'start_page': 0}\n",
      "response :\n",
      "\n",
      "<Response [200]>\n",
      "---------------\n",
      "--------------------------------------------------\n",
      "There are 1010 elements with 50 elements per page. Limit is 5.\n",
      "--------------------------------------------------\n",
      "Import on page 1 \n",
      "https://api.sncf.com/v1/coverage/sncf/lines\n",
      "6911aa6b-470c-4555-834e-9e4d831e038b\n",
      "\n",
      " Import on page 3 extra_params Import on page 2 Import on page 4 \n",
      " \n",
      "\n",
      "https://api.sncf.com/v1/coverage/sncf/lines{'count': 50, 'start_page': 1}https://api.sncf.com/v1/coverage/sncf/lineshttps://api.sncf.com/v1/coverage/sncf/lines\n",
      "\n",
      "\n",
      "\n",
      "6911aa6b-470c-4555-834e-9e4d831e038b6911aa6b-470c-4555-834e-9e4d831e038b6911aa6b-470c-4555-834e-9e4d831e038b\n",
      "\n",
      "\n",
      "\n",
      "\n",
      "\n",
      "extra_params extra_params extra_params    {'count': 50, 'start_page': 3}{'count': 50, 'start_page': 2}{'count': 50, 'start_page': 4}\n",
      "\n",
      "\n",
      "response :\n",
      "\n",
      "<Response [200]>\n",
      "---------------\n",
      "response :\n",
      "\n",
      "<Response [200]>\n",
      "---------------\n",
      "response :\n",
      "\n",
      "<Response [200]>\n",
      "---------------\n",
      "response :\n",
      "\n",
      "<Response [200]>\n",
      "---------------\n",
      "Multipage finished\n"
     ]
    },
    {
     "ename": "NameError",
     "evalue": "name 'coords' is not defined",
     "output_type": "error",
     "traceback": [
      "\u001b[0;31m---------------------------------------------------------------------------\u001b[0m",
      "\u001b[0;31mNameError\u001b[0m                                 Traceback (most recent call last)",
      "\u001b[0;32m<ipython-input-26-4e413bf1a9cc>\u001b[0m in \u001b[0;36m<module>\u001b[0;34m()\u001b[0m\n\u001b[1;32m     33\u001b[0m \u001b[0;34m\u001b[0m\u001b[0m\n\u001b[1;32m     34\u001b[0m \u001b[0;31m# Compute departures request:\u001b[0m\u001b[0;34m\u001b[0m\u001b[0;34m\u001b[0m\u001b[0m\n\u001b[0;32m---> 35\u001b[0;31m \u001b[0mresponse8\u001b[0m \u001b[0;34m=\u001b[0m \u001b[0mclient\u001b[0m\u001b[0;34m.\u001b[0m\u001b[0mdepartures\u001b[0m\u001b[0;34m(\u001b[0m\u001b[0mcoords\u001b[0m\u001b[0;34m=\u001b[0m\u001b[0mcoords\u001b[0m\u001b[0;34m,\u001b[0m \u001b[0mverbose\u001b[0m\u001b[0;34m=\u001b[0m\u001b[0mTrue\u001b[0m\u001b[0;34m)\u001b[0m\u001b[0;34m\u001b[0m\u001b[0m\n\u001b[0m\u001b[1;32m     36\u001b[0m response9 = client.departures(\n\u001b[1;32m     37\u001b[0m     collection_name=\"stop_points\", object_id=stop_point, verbose=True)\n",
      "\u001b[0;31mNameError\u001b[0m: name 'coords' is not defined"
     ]
    }
   ],
   "source": [
    "#client.set_region(\"fr-idf\")\n",
    "\n",
    "# Get all journeys from a given point or ressource:\n",
    "stop_area = \"stop_area:OIF:SA:8768138\"\n",
    "response1 = client.journeys(origin=stop_area, verbose=True)\n",
    "\n",
    "# Get route_schedules for given stop point:\n",
    "stop_point = \"stop_point:OIF:SP:10:1145\"\n",
    "response2 = client.route_schedules(stop_point=stop_point, verbose=True)\n",
    "\n",
    "\n",
    "\n",
    "# Compute custom multi-pages request:\n",
    "url = 'coverage/fr-idf/lines'\n",
    "response4 = client.raw(url, multipage=True, page_limit=10, verbose=True)\n",
    "\n",
    "# Compute invert geocoding request:\n",
    "lat = '48.866667'\n",
    "lon = '2.333333'\n",
    "response5 = client.inverted_geocoding(lat=lat, lon=lon, verbose=True)\n",
    "\n",
    "# Compute explore ressource request, single or multipage:\n",
    "response6 = client.explore(\"networks\", verbose=True)\n",
    "response7 = client.explore(\"lines\", multipage=True, page_limit=5, count_per_page=50, verbose=True)\n",
    "\n",
    "# Compute departures request:\n",
    "response8 = client.departures(coords=coords, verbose=True)\n",
    "response9 = client.departures(\n",
    "    collection_name=\"stop_points\", object_id=stop_point, verbose=True)"
   ]
  }
 ],
 "metadata": {
  "anaconda-cloud": {},
  "kernelspec": {
   "display_name": "Python [conda root]",
   "language": "python",
   "name": "conda-root-py"
  },
  "language_info": {
   "codemirror_mode": {
    "name": "ipython",
    "version": 2
   },
   "file_extension": ".py",
   "mimetype": "text/x-python",
   "name": "python",
   "nbconvert_exporter": "python",
   "pygments_lexer": "ipython2",
   "version": "2.7.12"
  }
 },
 "nbformat": 4,
 "nbformat_minor": 2
}
